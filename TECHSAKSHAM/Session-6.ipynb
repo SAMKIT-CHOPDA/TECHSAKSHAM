{
 "cells": [
  {
   "cell_type": "code",
   "execution_count": null,
   "id": "6f6ee470-f51a-44a0-a93f-62863afdfec3",
   "metadata": {},
   "outputs": [],
   "source": [
    "name age weight\n",
    "\n",
    "add workout,view workout,save data,load data,exit,enter you choice\n",
    "\n",
    "add workout:-\n",
    "current date\n",
    "execridse type:-pushup\n",
    "duration\n",
    "calries burned\n",
    "workout added successfully\n",
    "\n",
    "save data\n",
    "enter file name\n",
    "\n",
    "load data\n",
    "enter file anme:xyz.txt\n",
    "\n",
    "view data\n",
    "display\n"
   ]
  },
  {
   "cell_type": "code",
   "execution_count": 1,
   "id": "e13ca535-343d-47e3-b450-d2e3845a13c0",
   "metadata": {},
   "outputs": [
    {
     "name": "stdin",
     "output_type": "stream",
     "text": [
      "Enter your name:  SAMKIT\n",
      "Enter your age:  20\n",
      "Enter your weight (kg):  52\n"
     ]
    },
    {
     "name": "stdout",
     "output_type": "stream",
     "text": [
      "\n",
      "Menu:\n",
      "1. Add Workout\n",
      "2. View Workouts\n",
      "3. Save Data\n",
      "4. Load Data\n",
      "5. Exit\n"
     ]
    },
    {
     "name": "stdin",
     "output_type": "stream",
     "text": [
      "Enter your choice (1-5):  5\n"
     ]
    },
    {
     "name": "stdout",
     "output_type": "stream",
     "text": [
      "Exiting the program.\n"
     ]
    }
   ],
   "source": [
    "import datetime\n",
    "class User:\n",
    "    def __init__(self,name,age,weight):\n",
    "        self.name=name\n",
    "        self.age=age\n",
    "        self.weight=weight\n",
    "\n",
    "    def __str__(self):\n",
    "        return f\"Name: {self.name}, Age: {self.age}, Weight:{self.weight}kg\"\n",
    "\n",
    "class Workout:\n",
    "\n",
    "    def __init__(self, exercise_type, duration, calories_burned):\n",
    "        self.date = datetime.date.today()\n",
    "        self.exercise_type = exercise_type\n",
    "        self.duration = duration\n",
    "        self.calories_burned = calories_burned\n",
    "\n",
    "    def __str__(self):\n",
    "        return f\"Date: {self.date}, Exercise: {self.exercise_type}, Duration: {self.duration} mins, Calories: {self.calories_burned} kcal\"\n",
    "\n",
    "class WorkoutTracker:\n",
    "    def __init__(self, user):\n",
    "        self.user = user\n",
    "        self.workouts = []\n",
    "        \n",
    "    def add_workout(self):\n",
    "        exercise_type=input('Enter Type of Exercise:')\n",
    "        duration=int(input('Enter the Duration of Exercise in minutes:'))\n",
    "        calories_burned=int(input('Enter the calaries Burned:'))\n",
    "        workout = Workout(exercise_type, duration, calories_burned)\n",
    "        self.workouts.append(workout)\n",
    "        print(\"Workout added successfully.\")\n",
    "\n",
    "    def view_workout(self):\n",
    "        if self.workouts:\n",
    "            print(x for x in self.workouts)\n",
    "        else:\n",
    "            print(\"No workouts to display.\")\n",
    "\n",
    "    def save_data(self):\n",
    "        file_name = input(\"Enter file name to save data: \")\n",
    "        \n",
    "        with open(file_name, 'w') as f:\n",
    "            f.write(str(self.user) + '\\n')\n",
    "            for workout in self.workouts:\n",
    "                f.write(str(workout) + '\\n')\n",
    "    \n",
    "        print(f\"Data saved to {file_name}.\")\n",
    "                   \n",
    "    def load_data(self):\n",
    "        file_name = input(\"Enter file name to load data: \")\n",
    "        try:\n",
    "            with open(file_name, 'r') as f:\n",
    "                lines = f.readlines()\n",
    "                if lines:\n",
    "                    print(lines)\n",
    "                else:\n",
    "                    print(\"No Such Files Exists\")\n",
    "        except Exception as e:\n",
    "            print(e)\n",
    "\n",
    "def main():\n",
    "    name = input(\"Enter your name: \")\n",
    "    age = input(\"Enter your age: \")\n",
    "    weight = input(\"Enter your weight (kg): \")\n",
    "\n",
    "    user = User(name, age, weight)\n",
    "    tracker = WorkoutTracker(user)\n",
    "\n",
    "    while True:\n",
    "        print(\"\\nMenu:\")\n",
    "        print(\"1. Add Workout\")\n",
    "        print(\"2. View Workouts\")\n",
    "        print(\"3. Save Data\")\n",
    "        print(\"4. Load Data\")\n",
    "        print(\"5. Exit\")\n",
    "        \n",
    "        choice = input(\"Enter your choice (1-5): \")\n",
    "\n",
    "        if choice == \"1\":\n",
    "            tracker.add_workout()\n",
    "        elif choice == \"2\":\n",
    "            tracker.view_workouts()\n",
    "        elif choice == \"3\":\n",
    "            tracker.save_data()\n",
    "        elif choice == \"4\":\n",
    "            tracker.load_data()\n",
    "        elif choice == \"5\":\n",
    "            print(\"Exiting the program.\")\n",
    "            break\n",
    "        else:\n",
    "            print(\"Invalid choice. Please enter a number between 1 and 5.\")\n",
    "\n",
    "main()"
   ]
  },
  {
   "cell_type": "code",
   "execution_count": 5,
   "id": "08d5cd94-d9ba-40fb-8799-edf8b0632315",
   "metadata": {},
   "outputs": [
    {
     "name": "stdin",
     "output_type": "stream",
     "text": [
      "Enter your name:  Vinayak\n",
      "Enter your age:  20\n",
      "Enter your weight (kg):  70\n"
     ]
    },
    {
     "name": "stdout",
     "output_type": "stream",
     "text": [
      "\n",
      "Menu:\n",
      "1. Add Workout\n",
      "2. View Workouts\n",
      "3. Save Data\n",
      "4. Load Data\n",
      "5. Exit\n"
     ]
    },
    {
     "name": "stdin",
     "output_type": "stream",
     "text": [
      "Enter your choice (1-5):  1\n",
      "Enter Type of Exercise:  Squats\n",
      "Enter the Duration of Exercise in minutes:  5\n",
      "Enter the calories Burned:  90\n"
     ]
    },
    {
     "name": "stdout",
     "output_type": "stream",
     "text": [
      "Workout added successfully.\n",
      "\n",
      "Menu:\n",
      "1. Add Workout\n",
      "2. View Workouts\n",
      "3. Save Data\n",
      "4. Load Data\n",
      "5. Exit\n"
     ]
    },
    {
     "name": "stdin",
     "output_type": "stream",
     "text": [
      "Enter your choice (1-5):  4\n",
      "Enter file name to load data:  3\n"
     ]
    },
    {
     "name": "stdout",
     "output_type": "stream",
     "text": [
      "Error: [Errno 2] No such file or directory: '3'\n",
      "\n",
      "Menu:\n",
      "1. Add Workout\n",
      "2. View Workouts\n",
      "3. Save Data\n",
      "4. Load Data\n",
      "5. Exit\n"
     ]
    },
    {
     "name": "stdin",
     "output_type": "stream",
     "text": [
      "Enter your choice (1-5):  3\n",
      "Enter file name to save data:  Vinayak.txt\n"
     ]
    },
    {
     "name": "stdout",
     "output_type": "stream",
     "text": [
      "Data saved to Vinayak.txt.\n",
      "\n",
      "Menu:\n",
      "1. Add Workout\n",
      "2. View Workouts\n",
      "3. Save Data\n",
      "4. Load Data\n",
      "5. Exit\n"
     ]
    },
    {
     "name": "stdin",
     "output_type": "stream",
     "text": [
      "Enter your choice (1-5):  4\n",
      "Enter file name to load data:  Vinayak.txt\n"
     ]
    },
    {
     "name": "stdout",
     "output_type": "stream",
     "text": [
      "User info: Name: VINAYAK, Age: 20, Weight:70kg\n",
      "Workouts in file:\n",
      "Date: 2025-02-20, Exercise: pushups, Duration: 20 mins, Calories: 230 kcal\n",
      "Name: Vinayak, Age: 20, Weight:70kg\n",
      "Date: 2025-02-20, Exercise: Squats, Duration: 5 mins, Calories: 90 kcal\n",
      "\n",
      "Menu:\n",
      "1. Add Workout\n",
      "2. View Workouts\n",
      "3. Save Data\n",
      "4. Load Data\n",
      "5. Exit\n"
     ]
    },
    {
     "name": "stdin",
     "output_type": "stream",
     "text": [
      "Enter your choice (1-5):  5\n"
     ]
    },
    {
     "name": "stdout",
     "output_type": "stream",
     "text": [
      "Exiting the program.\n"
     ]
    }
   ],
   "source": [
    "import datetime\n",
    "\n",
    "class User:\n",
    "    def __init__(self, name, age, weight):\n",
    "        self.name = name\n",
    "        self.age = age\n",
    "        self.weight = weight\n",
    "\n",
    "    def __str__(self):\n",
    "        return f\"Name: {self.name}, Age: {self.age}, Weight:{self.weight}kg\"\n",
    "\n",
    "class Workout:\n",
    "    def __init__(self, exercise_type, duration, calories_burned):\n",
    "        self.date = datetime.date.today()\n",
    "        self.exercise_type = exercise_type\n",
    "        self.duration = duration\n",
    "        self.calories_burned = calories_burned\n",
    "\n",
    "    def __str__(self):\n",
    "        return f\"Date: {self.date}, Exercise: {self.exercise_type}, Duration: {self.duration} mins, Calories: {self.calories_burned} kcal\"\n",
    "\n",
    "class WorkoutTracker:\n",
    "    def __init__(self, user):\n",
    "        self.user = user\n",
    "        self.workouts = []\n",
    "        \n",
    "    def add_workout(self):\n",
    "        exercise_type = input('Enter Type of Exercise: ')\n",
    "        duration = int(input('Enter the Duration of Exercise in minutes: '))\n",
    "        calories_burned = int(input('Enter the calories Burned: '))\n",
    "        workout = Workout(exercise_type, duration, calories_burned)\n",
    "        self.workouts.append(workout)\n",
    "        print(\"Workout added successfully.\")\n",
    "\n",
    "    def view_workouts(self):\n",
    "        if self.workouts:\n",
    "            for workout in self.workouts:\n",
    "                print(workout)\n",
    "        else:\n",
    "            print(\"No workouts to display.\")\n",
    "\n",
    "    def save_data(self):\n",
    "        file_name = input(\"Enter file name to save data: \")\n",
    "        \n",
    "        with open(file_name, 'a') as f:\n",
    "            f.write(str(self.user) + '\\n')\n",
    "            for workout in self.workouts:\n",
    "                f.write(str(workout) + '\\n')\n",
    "    \n",
    "        print(f\"Data saved to {file_name}.\")\n",
    "                   \n",
    "    def load_data(self):\n",
    "        file_name = input(\"Enter file name to load data: \")\n",
    "        try:\n",
    "            with open(file_name, 'r') as f:\n",
    "                lines = f.readlines()\n",
    "                if lines:\n",
    "                    user_info = lines[0].strip()\n",
    "                    print(f\"User info: {user_info}\")\n",
    "                    print(\"Workouts in file:\")\n",
    "                    for line in lines[1:]:\n",
    "                        print(line.strip())\n",
    "                else:\n",
    "                    print(\"No data found in the file.\")\n",
    "        except Exception as e:\n",
    "            print(f\"Error: {e}\")\n",
    "\n",
    "def main():\n",
    "    name = input(\"Enter your name: \")\n",
    "    age = input(\"Enter your age: \")\n",
    "    weight = input(\"Enter your weight (kg): \")\n",
    "\n",
    "    user = User(name, age, weight)\n",
    "    tracker = WorkoutTracker(user)\n",
    "\n",
    "    while True:\n",
    "        print(\"\\nMenu:\")\n",
    "        print(\"1. Add Workout\")\n",
    "        print(\"2. View Workouts\")\n",
    "        print(\"3. Save Data\")\n",
    "        print(\"4. Load Data\")\n",
    "        print(\"5. Exit\")\n",
    "        \n",
    "        choice = input(\"Enter your choice (1-5): \")\n",
    "\n",
    "        if choice == \"1\":\n",
    "            tracker.add_workout()\n",
    "        elif choice == \"2\":\n",
    "            tracker.view_workouts()\n",
    "        elif choice == \"3\":\n",
    "            tracker.save_data()\n",
    "        elif choice == \"4\":\n",
    "            tracker.load_data()\n",
    "        elif choice == \"5\":\n",
    "            print(\"Exiting the program.\")\n",
    "            break\n",
    "        else:\n",
    "            print(\"Invalid choice. Please enter a number between 1 and 5.\")\n",
    "\n",
    "if __name__ == \"__main__\":\n",
    "    main()\n"
   ]
  },
  {
   "cell_type": "code",
   "execution_count": 34,
   "id": "6939eb4f-8a18-4feb-b8cb-3fb3082f8ac9",
   "metadata": {},
   "outputs": [
    {
     "name": "stdout",
     "output_type": "stream",
     "text": [
      "[Errno 2] No such file or directory: 'x.txt'\n"
     ]
    }
   ],
   "source": [
    "try:\n",
    "    with open('x.txt','r') as f:\n",
    "        pass\n",
    "except FileNotFoundError as e:\n",
    "    print(e)\n",
    "except PermissionError as e:\n",
    "    print(e)\n",
    "except Exception as e:\n",
    "    print(\"Unknown Error Occured\")\n",
    "else:\n",
    "    pass\n",
    "finally:\n",
    "    if 'f' in locals() and not f.close:\n",
    "        f.close()"
   ]
  },
  {
   "cell_type": "code",
   "execution_count": 42,
   "id": "11dbaa0a-5a21-4458-a27d-63e6cf207baf",
   "metadata": {},
   "outputs": [
    {
     "name": "stdin",
     "output_type": "stream",
     "text": [
      "Enter Numbers Seprated by spaces: 1 2 3 4 5 6  6 5 4 3 2 1\n",
      "Enter the number you want to remove: 1\n"
     ]
    },
    {
     "name": "stdout",
     "output_type": "stream",
     "text": [
      "[2, 3, 4, 5, 6, 6, 5, 4, 3, 2]\n"
     ]
    }
   ],
   "source": [
    "l=list(map(int,input('Enter Numbers Seprated by spaces:').split()))\n",
    "r=int(input('Enter the number you want to remove:'))\n",
    "ls=[x for x in l if x!=r]\n",
    "print(ls)"
   ]
  },
  {
   "cell_type": "markdown",
   "id": "c50853e9-1ba2-4db3-a51f-98409308b8f6",
   "metadata": {},
   "source": [
    "def"
   ]
  },
  {
   "cell_type": "code",
   "execution_count": null,
   "id": "e4ab5b1e-6544-498a-b87c-7db53eb1f3a1",
   "metadata": {},
   "outputs": [],
   "source": []
  }
 ],
 "metadata": {
  "kernelspec": {
   "display_name": "Python [conda env:base] *",
   "language": "python",
   "name": "conda-base-py"
  },
  "language_info": {
   "codemirror_mode": {
    "name": "ipython",
    "version": 3
   },
   "file_extension": ".py",
   "mimetype": "text/x-python",
   "name": "python",
   "nbconvert_exporter": "python",
   "pygments_lexer": "ipython3",
   "version": "3.12.7"
  }
 },
 "nbformat": 4,
 "nbformat_minor": 5
}
