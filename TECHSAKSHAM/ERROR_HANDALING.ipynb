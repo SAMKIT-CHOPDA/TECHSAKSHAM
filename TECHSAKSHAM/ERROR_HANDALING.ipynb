{
 "cells": [
  {
   "cell_type": "code",
   "execution_count": 9,
   "id": "c8531620-8dd9-4bc2-8ed6-bfefbabe74e8",
   "metadata": {},
   "outputs": [
    {
     "name": "stdout",
     "output_type": "stream",
     "text": [
      "3\n",
      "This was all about the Exception handaling in python\n"
     ]
    }
   ],
   "source": [
    "try:\n",
    "    res=3//1\n",
    "except Exception as e:\n",
    "    print(f'Exception Occured : {e}')\n",
    "else:\n",
    "    print(res)\n",
    "finally:\n",
    "    print('This was all about the Exception handaling in python')"
   ]
  },
  {
   "cell_type": "code",
   "execution_count": 11,
   "id": "1f361540-b266-457b-aa69-b35660345241",
   "metadata": {},
   "outputs": [
    {
     "name": "stdout",
     "output_type": "stream",
     "text": [
      "Caught an exception: Division by zero is not allowed!\n"
     ]
    }
   ],
   "source": [
    "class MyCustomError(Exception):\n",
    "    \"\"\"Custom exception for specific error cases.\"\"\"\n",
    "    pass\n",
    "\n",
    "def divide(a, b):\n",
    "    \"\"\"Divides a by b and raises a custom exception if b is zero.\"\"\"\n",
    "    if b == 0:\n",
    "        raise MyCustomError(\"Division by zero is not allowed!\")\n",
    "    return a / b\n",
    "\n",
    "try:\n",
    "    result = divide(10, 0)\n",
    "    print(\"Result:\", result)\n",
    "except MyCustomError as e:\n",
    "    print(\"Caught an exception:\", e)\n"
   ]
  },
  {
   "cell_type": "code",
   "execution_count": 13,
   "id": "a8ffec06-30a0-4672-9536-95a3dd22c6fe",
   "metadata": {},
   "outputs": [
    {
     "name": "stdout",
     "output_type": "stream",
     "text": [
      "This is My Exception\n"
     ]
    }
   ],
   "source": [
    "class MyException(Exception):\n",
    "    pass\n",
    "\n",
    "try:\n",
    "    res=3/1\n",
    "    if res==3:\n",
    "        raise MyException(\"This is My Exception\")\n",
    "except MyException as e:\n",
    "    print(e)"
   ]
  },
  {
   "cell_type": "code",
   "execution_count": null,
   "id": "76a35ffc-19df-4e78-b4c8-a04c62d88c6e",
   "metadata": {},
   "outputs": [],
   "source": []
  }
 ],
 "metadata": {
  "kernelspec": {
   "display_name": "Python [conda env:base] *",
   "language": "python",
   "name": "conda-base-py"
  },
  "language_info": {
   "codemirror_mode": {
    "name": "ipython",
    "version": 3
   },
   "file_extension": ".py",
   "mimetype": "text/x-python",
   "name": "python",
   "nbconvert_exporter": "python",
   "pygments_lexer": "ipython3",
   "version": "3.12.7"
  }
 },
 "nbformat": 4,
 "nbformat_minor": 5
}
