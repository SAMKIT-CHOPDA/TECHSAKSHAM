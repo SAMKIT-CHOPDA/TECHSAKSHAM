{
 "cells": [
  {
   "cell_type": "code",
   "execution_count": 1,
   "id": "afbb56a8-ffb3-469b-9e02-0d8bd4f7f768",
   "metadata": {},
   "outputs": [
    {
     "name": "stdout",
     "output_type": "stream",
     "text": [
      "[ 1  2  3  4  5  6  7  8  9 10]\n"
     ]
    }
   ],
   "source": [
    "import numpy as np\n",
    "a = np.array([1,2,3,4,5,6,7,8,9,10])\n",
    "print(a)"
   ]
  },
  {
   "cell_type": "code",
   "execution_count": 5,
   "id": "796b63b0-17ab-4800-b1a1-54057bab02ad",
   "metadata": {},
   "outputs": [
    {
     "name": "stdout",
     "output_type": "stream",
     "text": [
      "[[ 1  2  3  4  5]\n",
      " [ 6  7  8  9 10]]\n"
     ]
    }
   ],
   "source": [
    "b = np.array([(1,2,3,4,5),(6,7,8,9,10)])\n",
    "print(b)"
   ]
  },
  {
   "cell_type": "code",
   "execution_count": 11,
   "id": "34943bf5-addb-45ed-b9fb-f50d3a87601a",
   "metadata": {},
   "outputs": [
    {
     "name": "stdout",
     "output_type": "stream",
     "text": [
      "[1.  1.8 2.6 3.4 4.2 5.  5.8 6.6 7.4 8.2 9.  9.8]\n",
      "[1.  1.8 2.6 3.4 4.2 5. ]\n"
     ]
    }
   ],
   "source": [
    "c=np.arange(1,10,0.8) # range of values in array( 1 to 10 , 0.8 is step)\n",
    "d = np.linspace(1,5,6) #set of values by Interval(divides 1 to 5 in 6 equal parts) \n",
    "print(c)\n",
    "print(d)"
   ]
  },
  {
   "cell_type": "code",
   "execution_count": 140,
   "id": "50070001-931d-45e4-ac30-a14a2b3aa70a",
   "metadata": {},
   "outputs": [
    {
     "name": "stdout",
     "output_type": "stream",
     "text": [
      "1\n",
      "4\n",
      "int32\n",
      "40\n",
      "10\n",
      "(2, 5)\n",
      "5.5\n"
     ]
    }
   ],
   "source": [
    "print(a.ndim) # dimension off array\n",
    "print(a.itemsize) #Byte size of each element\n",
    "print(a.dtype)\n",
    "print(a.size*a.itemsize) # memory Occupied\n",
    "print(a.size) # number of elements in an array\n",
    "print(b.shape) #shape of array(rows and columns)\n",
    "print(a.mean())"
   ]
  },
  {
   "cell_type": "code",
   "execution_count": 33,
   "id": "5c814795-6187-4d5d-b183-952914acee8b",
   "metadata": {},
   "outputs": [
    {
     "name": "stdout",
     "output_type": "stream",
     "text": [
      "[[ 1  2  3  4  5]\n",
      " [ 6  7  8  9 10]]\n",
      "[[ 1  2]\n",
      " [ 3  4]\n",
      " [ 5  6]\n",
      " [ 7  8]\n",
      " [ 9 10]]\n"
     ]
    }
   ],
   "source": [
    "b = np.array([(1,2,3,4,5),(6,7,8,9,10)])\n",
    "print(b)\n",
    "b = b.reshape(5,2)\n",
    "print(b)"
   ]
  },
  {
   "cell_type": "code",
   "execution_count": 41,
   "id": "36135bce-2097-4572-bdf6-af2945b3e5ef",
   "metadata": {},
   "outputs": [
    {
     "name": "stdout",
     "output_type": "stream",
     "text": [
      "3\n",
      "[3 8]\n"
     ]
    }
   ],
   "source": [
    "b = np.array([(1,2,3,4,5),(6,7,8,9,10)])\n",
    "print(b[0,2]) # slicing a row from certain row and column\n",
    "print(b[0:,2]) # slicing element from all rows and a ceratin column"
   ]
  },
  {
   "cell_type": "code",
   "execution_count": 49,
   "id": "e485fccf-e5bf-44a6-a9fc-0d16c0f9d47b",
   "metadata": {},
   "outputs": [
    {
     "name": "stdout",
     "output_type": "stream",
     "text": [
      "2 96 150\n"
     ]
    }
   ],
   "source": [
    "e=np.array([7,9,9,2,16,11,96])\n",
    "print(e.min(),e.max(),e.sum())"
   ]
  },
  {
   "cell_type": "code",
   "execution_count": 55,
   "id": "24263b9f-2099-4e83-95d2-bb60e11156aa",
   "metadata": {},
   "outputs": [
    {
     "name": "stdout",
     "output_type": "stream",
     "text": [
      "[ 7  9 11 13 15]\n",
      "[15 40]\n",
      "[1.         1.41421356 1.73205081 2.         2.23606798 2.44948974\n",
      " 2.64575131 2.82842712 3.         3.16227766]\n",
      "2.8722813232690143\n",
      "[2.71828183e+00 7.38905610e+00 2.00855369e+01 5.45981500e+01\n",
      " 1.48413159e+02 4.03428793e+02 1.09663316e+03 2.98095799e+03\n",
      " 8.10308393e+03 2.20264658e+04]\n",
      "[0.         0.69314718 1.09861229 1.38629436 1.60943791 1.79175947\n",
      " 1.94591015 2.07944154 2.19722458 2.30258509]\n",
      "[0.         0.30103    0.47712125 0.60205999 0.69897    0.77815125\n",
      " 0.84509804 0.90308999 0.95424251 1.        ]\n",
      "[0.         1.         1.5849625  2.         2.32192809 2.5849625\n",
      " 2.80735492 3.         3.169925   3.32192809]\n"
     ]
    }
   ],
   "source": [
    "a = np.array([1,2,3,4,5,6,7,8,9,10])\n",
    "b = np.array([(1,2,3,4,5),(6,7,8,9,10)])\n",
    "print(b.sum(axis=0)) # column wise addtion 1+6 , 2+7 ...\n",
    "print(b.sum(axis=1)) # row wise addition 1+2+3+4+5=15 and 6+7+8+9+10=40\n",
    "print(np.sqrt(a))\n",
    "print(np.std(a)) # standard deviation\n",
    "print(np.exp(a)) # exponential of aaray\n",
    "print(np.log(a))\n",
    "print(np.log10(a))\n",
    "print(np.log2(a))"
   ]
  },
  {
   "cell_type": "code",
   "execution_count": 65,
   "id": "b1c318e8-8f66-4980-a1f4-97ccbf0d4cc8",
   "metadata": {},
   "outputs": [
    {
     "name": "stdout",
     "output_type": "stream",
     "text": [
      "[[ 1  2  3  4  5]\n",
      " [ 6  7  8  9 10]\n",
      " [11 12 13 14 15]\n",
      " [16 17 18 19 20]]\n",
      "[[ 1  2  3  4  5 11 12 13 14 15]\n",
      " [ 6  7  8  9 10 16 17 18 19 20]]\n",
      "[ 1  2  3  4  5  6  7  8  9 10]\n"
     ]
    }
   ],
   "source": [
    "b = np.array([(1,2,3,4,5),(6,7,8,9,10)])\n",
    "c= np.array([(11,12,13,14,15),(16,17,18,19,20)])\n",
    "print(np.vstack((b,c))) #vertical merging of arrays\n",
    "print(np.hstack((b,c))) #horizontal merging of arrays\n",
    "print(b.ravel()) # coverting multi-dimensional to single dimensional"
   ]
  },
  {
   "cell_type": "code",
   "execution_count": 67,
   "id": "40393faa-a13f-4858-a9fd-7c3b548d86c3",
   "metadata": {},
   "outputs": [
    {
     "name": "stdout",
     "output_type": "stream",
     "text": [
      "[[[ 1  2  3]\n",
      "  [ 4  5  6]]\n",
      "\n",
      " [[-1 -2 -3]\n",
      "  [-4 -5 -6]]]\n"
     ]
    }
   ],
   "source": [
    "threeDArray = np.array([[[1,2,3],[4,5,6]],[[-1,-2,-3],[-4,-5,-6]]])\n",
    "print(threeDArray)"
   ]
  },
  {
   "cell_type": "code",
   "execution_count": 69,
   "id": "2ffa84fd-f029-4795-adcb-d909fd9b6c47",
   "metadata": {},
   "outputs": [
    {
     "name": "stdout",
     "output_type": "stream",
     "text": [
      "3\n"
     ]
    }
   ],
   "source": [
    "print(threeDArray[0][0][2])"
   ]
  },
  {
   "cell_type": "code",
   "execution_count": 73,
   "id": "9bfcccb5-ea68-4e17-9e25-695d4de9254a",
   "metadata": {},
   "outputs": [
    {
     "name": "stdout",
     "output_type": "stream",
     "text": [
      "3\n"
     ]
    }
   ],
   "source": [
    "print(threeDArray[0,0,2])"
   ]
  },
  {
   "cell_type": "code",
   "execution_count": 75,
   "id": "4987938a-4751-4c2a-9a73-8024a51f1a33",
   "metadata": {},
   "outputs": [
    {
     "name": "stdout",
     "output_type": "stream",
     "text": [
      "4\n"
     ]
    }
   ],
   "source": [
    "print(threeDArray.itemsize)"
   ]
  },
  {
   "cell_type": "code",
   "execution_count": 77,
   "id": "910e53f8-029a-40c4-a977-418f5909f708",
   "metadata": {},
   "outputs": [
    {
     "name": "stdout",
     "output_type": "stream",
     "text": [
      "1\n",
      "2\n",
      "3\n",
      "4\n",
      "5\n",
      "6\n",
      "7\n",
      "8\n",
      "9\n",
      "10\n"
     ]
    }
   ],
   "source": [
    "for i in b:\n",
    "    for j in i:\n",
    "        print(j)"
   ]
  },
  {
   "cell_type": "code",
   "execution_count": 79,
   "id": "f95e0fb7-af07-49b7-b5cf-b33007d5fa12",
   "metadata": {},
   "outputs": [
    {
     "name": "stdout",
     "output_type": "stream",
     "text": [
      "1\n",
      "2\n",
      "3\n",
      "4\n",
      "5\n",
      "6\n",
      "-1\n",
      "-2\n",
      "-3\n",
      "-4\n",
      "-5\n",
      "-6\n"
     ]
    }
   ],
   "source": [
    "for i in threeDArray.flatten(): #all values get printed in single dimension\n",
    "    print(i)"
   ]
  },
  {
   "cell_type": "code",
   "execution_count": 85,
   "id": "70aa88e0-a53b-4873-bc6a-e277475f402e",
   "metadata": {},
   "outputs": [
    {
     "name": "stdout",
     "output_type": "stream",
     "text": [
      "[ 1  2  3  4  5  6 -1 -2 -3 -4 -5 -6]\n",
      "[ 1  2  3  4  5  6 -1 -2 -3 -4 -5 -6]\n",
      "[[[ 1  2  3]\n",
      "  [ 4  5  6]]\n",
      "\n",
      " [[-1 -2 -3]\n",
      "  [-4 -5 -6]]]\n"
     ]
    }
   ],
   "source": [
    "print(threeDArray.flatten())\n",
    "print(threeDArray.ravel())\n",
    "print(threeDArray)"
   ]
  },
  {
   "cell_type": "markdown",
   "id": "282e7f60-3fab-4396-9b81-ea34905a1df9",
   "metadata": {},
   "source": [
    "## filling arrays with specific values"
   ]
  },
  {
   "cell_type": "code",
   "execution_count": 92,
   "id": "a877e451-59da-49d6-b3e8-1ee0dd929ba6",
   "metadata": {},
   "outputs": [
    {
     "name": "stdout",
     "output_type": "stream",
     "text": [
      "[[0. 0. 0.]\n",
      " [0. 0. 0.]\n",
      " [0. 0. 0.]\n",
      " [0. 0. 0.]\n",
      " [0. 0. 0.]]\n"
     ]
    }
   ],
   "source": [
    "#zeros\n",
    "z=np.zeros((5,3))\n",
    "print(z)"
   ]
  },
  {
   "cell_type": "code",
   "execution_count": 98,
   "id": "714fb906-6a43-445a-98ee-1c339abdaade",
   "metadata": {},
   "outputs": [
    {
     "name": "stdout",
     "output_type": "stream",
     "text": [
      "[1. 1. 1. 1. 1.]\n"
     ]
    }
   ],
   "source": [
    "#ones\n",
    "o=np.ones(5)\n",
    "print(o)"
   ]
  },
  {
   "cell_type": "code",
   "execution_count": 100,
   "id": "b40dd79d-cc5b-41ce-8fb7-f619fc607b4f",
   "metadata": {},
   "outputs": [
    {
     "name": "stdout",
     "output_type": "stream",
     "text": [
      "[1 1 1 1 1]\n"
     ]
    }
   ],
   "source": [
    "o = o.astype(int) # converting to integer values as default value is float\n",
    "print(o)"
   ]
  },
  {
   "cell_type": "code",
   "execution_count": 104,
   "id": "afeb9e00-87c6-4378-81b3-f442d04f414a",
   "metadata": {},
   "outputs": [
    {
     "name": "stdout",
     "output_type": "stream",
     "text": [
      "[5.8 6.3 6.8 7.3 7.8 8.3 8.8 9.3 9.8]\n"
     ]
    }
   ],
   "source": [
    "ranges = np.arange(5.8,9.8,0.5)\n",
    "print(ranges)"
   ]
  },
  {
   "cell_type": "code",
   "execution_count": 112,
   "id": "9a44c549-432e-4b74-ad3f-fabf32bc11cc",
   "metadata": {},
   "outputs": [
    {
     "name": "stdout",
     "output_type": "stream",
     "text": [
      "[3.         3.33333333 3.66666667 4.         4.33333333 4.66666667\n",
      " 5.         5.33333333 5.66666667 6.        ]\n"
     ]
    }
   ],
   "source": [
    "#linspace\n",
    "linspace = np.linspace(3,6,10)\n",
    "print(linspace)"
   ]
  },
  {
   "cell_type": "code",
   "execution_count": 108,
   "id": "5a8af226-7969-4f2e-95eb-c4582222be30",
   "metadata": {},
   "outputs": [
    {
     "name": "stdout",
     "output_type": "stream",
     "text": [
      "[[ 3  4  5  6  7]\n",
      " [ 8  9 10 11 12]]\n"
     ]
    }
   ],
   "source": [
    "matrix = np.array([[1,2,3,4,5],[6,7,8,9,10]])\n",
    "print(matrix+2)"
   ]
  },
  {
   "cell_type": "code",
   "execution_count": 114,
   "id": "febaba1c-ca41-471e-8175-7716837f1eb4",
   "metadata": {},
   "outputs": [
    {
     "name": "stdout",
     "output_type": "stream",
     "text": [
      "[[1, 2, 3, 4, 5], [6, 7, 8, 9, 10], [1, 2, 3, 4, 5], [6, 7, 8, 9, 10]]\n"
     ]
    }
   ],
   "source": [
    "pylist = [[1,2,3,4,5],[6,7,8,9,10]]\n",
    "print(pylist*2) #doubles the list (copying of list)"
   ]
  },
  {
   "cell_type": "code",
   "execution_count": 116,
   "id": "3004296e-92cf-4433-85e5-925076c73fe7",
   "metadata": {},
   "outputs": [
    {
     "name": "stdout",
     "output_type": "stream",
     "text": [
      "[[ 1  6]\n",
      " [ 2  7]\n",
      " [ 3  8]\n",
      " [ 4  9]\n",
      " [ 5 10]]\n"
     ]
    }
   ],
   "source": [
    "print(matrix.T) #coverts rows to column and columns to row"
   ]
  },
  {
   "cell_type": "code",
   "execution_count": 118,
   "id": "98cfc24a-4567-463b-a720-6f9d3ee26a09",
   "metadata": {},
   "outputs": [
    {
     "name": "stdout",
     "output_type": "stream",
     "text": [
      "[ 6  7  8  9 10]\n"
     ]
    }
   ],
   "source": [
    "print(matrix[1,])"
   ]
  },
  {
   "cell_type": "code",
   "execution_count": 122,
   "id": "d04d7dce-3d1c-41c8-b822-deef2a81c6b2",
   "metadata": {},
   "outputs": [
    {
     "name": "stdout",
     "output_type": "stream",
     "text": [
      "1-dimension\n",
      "[5 5 5 5 5 5 5 5 5 5]\n",
      "\n",
      "2-dimension\n",
      "[[5 5]\n",
      " [5 5]]\n",
      "\n",
      "3-dimension\n",
      "[[[5 5 5 5]\n",
      "  [5 5 5 5]\n",
      "  [5 5 5 5]\n",
      "  [5 5 5 5]\n",
      "  [5 5 5 5]]\n",
      "\n",
      " [[5 5 5 5]\n",
      "  [5 5 5 5]\n",
      "  [5 5 5 5]\n",
      "  [5 5 5 5]\n",
      "  [5 5 5 5]]]\n"
     ]
    }
   ],
   "source": [
    "print('1-dimension')\n",
    "full = np.full(10,5) # no.of elements and value\n",
    "print(full)\n",
    "print()\n",
    "print('2-dimension')\n",
    "full = np.full((2,2),5) # no.of elements and value\n",
    "print(full)\n",
    "print()\n",
    "print('3-dimension')\n",
    "full = np.full((2,5,4),5) # no.of elements and value\n",
    "print(full)"
   ]
  },
  {
   "cell_type": "code",
   "execution_count": 126,
   "id": "e5c72289-2576-4896-ab4f-7ca1868fa794",
   "metadata": {},
   "outputs": [
    {
     "name": "stdout",
     "output_type": "stream",
     "text": [
      "[[1, 2, 3], [4, 5], [6, 7, 8], [9, 10]]\n"
     ]
    }
   ],
   "source": [
    "print([[1,2,3],[4,5]]+[[6,7,8],[9,10]]) # addition of two list"
   ]
  },
  {
   "cell_type": "code",
   "execution_count": 138,
   "id": "39082e13-02ea-4c7f-a094-804f7c84d7ad",
   "metadata": {},
   "outputs": [
    {
     "name": "stdout",
     "output_type": "stream",
     "text": [
      "[[ 5  7  9]\n",
      " [14 16 18]\n",
      " [29 31 33]]\n",
      "[[ 72  78  84]\n",
      " [162 177 192]\n",
      " [432 474 516]]\n"
     ]
    }
   ],
   "source": [
    "matrix1=np.array([[1,2,3],[4,5,6],[13,14,15]])\n",
    "matrix2=np.array([[4,5,6],[10,11,12],[16,17,18]])\n",
    "print(matrix1 + matrix2)\n",
    "\n",
    "# for multiplication shape of both arrays should be same\n",
    "print(np.matmul(matrix1,matrix2))"
   ]
  },
  {
   "cell_type": "code",
   "execution_count": 150,
   "id": "b80322a3-581e-4127-aefb-3affb27c8130",
   "metadata": {},
   "outputs": [
    {
     "name": "stdout",
     "output_type": "stream",
     "text": [
      "1\n",
      "16\n",
      "136\n",
      "2004189184\n",
      "8.5\n",
      "4.6097722286464435\n",
      "21.25\n"
     ]
    }
   ],
   "source": [
    "b=np.array([[1,2,3,4],[5,6,7,8],[9,10,11,12],[13,14,15,16]])\n",
    "print(b.min())\n",
    "print(b.max())\n",
    "print(b.sum())\n",
    "print(b.prod())\n",
    "print(b.mean())\n",
    "print(b.std())\n",
    "print(round(b.var(),2))"
   ]
  },
  {
   "cell_type": "code",
   "execution_count": 152,
   "id": "6926ce1c-f2af-4142-8f98-a565bd602443",
   "metadata": {},
   "outputs": [
    {
     "name": "stdout",
     "output_type": "stream",
     "text": [
      "[ 1  5  9 13]\n",
      "[ 4  8 12 16]\n",
      "[10 26 42 58]\n",
      "[   24  1680 11880 43680]\n",
      "[ 2.5  6.5 10.5 14.5]\n",
      "[1.11803399 1.11803399 1.11803399 1.11803399]\n",
      "[1.25 1.25 1.25 1.25]\n"
     ]
    }
   ],
   "source": [
    "print(b.min(axis=1))  # Minimum value in each row\n",
    "print(b.max(axis=1))  # Maximum value in each row\n",
    "print(b.sum(axis=1))  # Sum of elements in each row\n",
    "print(b.prod(axis=1)) # Product of elements in each row\n",
    "print(b.mean(axis=1)) # Mean of elements in each row\n",
    "print(b.std(axis=1))  # Standard deviation in each row\n",
    "print(np.round(b.var(axis=1), 2))  # Variance in each row (rounded to 2 decimals)\n"
   ]
  },
  {
   "cell_type": "code",
   "execution_count": 154,
   "id": "4bddfffb-9320-402a-b9ec-ed93f9846d35",
   "metadata": {},
   "outputs": [
    {
     "data": {
      "text/plain": [
       "array([0, 1, 2, 3, 4, 0, 1, 2, 3, 4, 0, 1, 2, 3, 4])"
      ]
     },
     "execution_count": 154,
     "metadata": {},
     "output_type": "execute_result"
    }
   ],
   "source": [
    "x=np.array([0,1,2,3,4])\n",
    "y=np.array([0,1,2,3,4])\n",
    "z=np.array([0,1,2,3,4])\n",
    "\n",
    "np.hstack([x,y,z])"
   ]
  },
  {
   "cell_type": "code",
   "execution_count": 156,
   "id": "0c84bb35-b8fa-480a-816f-cb4e4a857bf4",
   "metadata": {},
   "outputs": [
    {
     "data": {
      "text/plain": [
       "array([[0, 1, 2, 3, 4],\n",
       "       [0, 1, 2, 3, 4],\n",
       "       [0, 1, 2, 3, 4]])"
      ]
     },
     "execution_count": 156,
     "metadata": {},
     "output_type": "execute_result"
    }
   ],
   "source": [
    "np.vstack([x,y,z])"
   ]
  },
  {
   "cell_type": "code",
   "execution_count": 158,
   "id": "9c48e732-82e7-4b72-83c6-84fe7f41c699",
   "metadata": {},
   "outputs": [
    {
     "data": {
      "text/plain": [
       "array([0, 1, 2, 3, 4, 2, 3])"
      ]
     },
     "execution_count": 158,
     "metadata": {},
     "output_type": "execute_result"
    }
   ],
   "source": [
    "np.append(x,(2,3))"
   ]
  },
  {
   "cell_type": "code",
   "execution_count": 166,
   "id": "358d45f6-b46f-406e-acda-671dcdd28925",
   "metadata": {},
   "outputs": [
    {
     "name": "stdout",
     "output_type": "stream",
     "text": [
      "[[1 2 3]\n",
      " [4 5 6]\n",
      " [1 2 3]\n",
      " [1 2 3]]\n"
     ]
    }
   ],
   "source": [
    "new_array=np.array([1,2,3])\n",
    "x=np.append([[1,2,3],[4,5,6]],[[1,2,3],new_array],axis=0)\n",
    "print(x)"
   ]
  },
  {
   "cell_type": "code",
   "execution_count": 168,
   "id": "ad0c13d6-7c75-4f7c-824e-c670366ba7ea",
   "metadata": {},
   "outputs": [
    {
     "name": "stdout",
     "output_type": "stream",
     "text": [
      "[[1 2 3 1 2 3]\n",
      " [4 5 6 1 2 3]]\n"
     ]
    }
   ],
   "source": [
    "new_array=np.array([1,2,3])\n",
    "x=np.append([[1,2,3],[4,5,6]],[[1,2,3],new_array],axis=1)\n",
    "print(x)"
   ]
  },
  {
   "cell_type": "code",
   "execution_count": 170,
   "id": "b78bebbc-1232-4adc-9755-7bfc49e73bfa",
   "metadata": {},
   "outputs": [
    {
     "data": {
      "text/plain": [
       "array([[1, 4],\n",
       "       [2, 5],\n",
       "       [3, 6],\n",
       "       [1, 1],\n",
       "       [2, 2],\n",
       "       [3, 3]])"
      ]
     },
     "execution_count": 170,
     "metadata": {},
     "output_type": "execute_result"
    }
   ],
   "source": [
    "np.transpose(x)"
   ]
  },
  {
   "cell_type": "code",
   "execution_count": 176,
   "id": "bfc3411b-dae5-4c0c-8399-94c4df8218ba",
   "metadata": {},
   "outputs": [
    {
     "name": "stdout",
     "output_type": "stream",
     "text": [
      "[False False False False False  True  True  True  True  True  True]\n"
     ]
    },
    {
     "data": {
      "text/plain": [
       "array([ 5,  6,  7,  8,  9, 10])"
      ]
     },
     "execution_count": 176,
     "metadata": {},
     "output_type": "execute_result"
    }
   ],
   "source": [
    "arr = np.arange(11)\n",
    "print(arr>4)\n",
    "arr[arr>4]"
   ]
  },
  {
   "cell_type": "code",
   "execution_count": 178,
   "id": "c89c9908-cd3a-4879-b810-62685fc712c6",
   "metadata": {},
   "outputs": [
    {
     "data": {
      "text/plain": [
       "array([[[ 0,  1],\n",
       "        [ 2,  3],\n",
       "        [ 4,  5]],\n",
       "\n",
       "       [[ 6,  7],\n",
       "        [ 8,  9],\n",
       "        [10, 11]]])"
      ]
     },
     "execution_count": 178,
     "metadata": {},
     "output_type": "execute_result"
    }
   ],
   "source": [
    "np.arange(12).reshape((2,3,2))"
   ]
  },
  {
   "cell_type": "code",
   "execution_count": 180,
   "id": "72832a4f-dd45-4397-ab56-62dda7ca98c1",
   "metadata": {},
   "outputs": [
    {
     "data": {
      "text/plain": [
       "array([0.57175449, 0.30132906, 0.39427412, 0.90366665, 0.55222651])"
      ]
     },
     "execution_count": 180,
     "metadata": {},
     "output_type": "execute_result"
    }
   ],
   "source": [
    "np.random.rand(5)"
   ]
  },
  {
   "cell_type": "code",
   "execution_count": 182,
   "id": "8a9ac9e3-f591-48c1-9244-e750cb873a00",
   "metadata": {},
   "outputs": [
    {
     "data": {
      "text/plain": [
       "array([[17, 14, 13, 10, 11],\n",
       "       [11, 15, 18, 17, 10],\n",
       "       [19, 14, 15, 11, 15],\n",
       "       [19, 16, 14, 13, 14],\n",
       "       [12, 19, 14, 15, 18]])"
      ]
     },
     "execution_count": 182,
     "metadata": {},
     "output_type": "execute_result"
    }
   ],
   "source": [
    "np.random.randint(10,20,(5,5)) # start value, stop value, shape"
   ]
  },
  {
   "cell_type": "code",
   "execution_count": 188,
   "id": "a90caca3-29ac-4ab7-8f12-76aff30203ce",
   "metadata": {},
   "outputs": [
    {
     "data": {
      "text/plain": [
       "array(['a', 'e', 'i', 'o', 'u'], dtype='<U1')"
      ]
     },
     "execution_count": 188,
     "metadata": {},
     "output_type": "execute_result"
    }
   ],
   "source": [
    "letters=list('aeiou')\n",
    "np.random.choice(letters,5,replace=False) #due to replace=False repetation of values will not occur"
   ]
  },
  {
   "cell_type": "code",
   "execution_count": 190,
   "id": "9bdd80e6-0995-46e9-9322-d04fef9b5235",
   "metadata": {},
   "outputs": [
    {
     "data": {
      "text/plain": [
       "array(['a', 'e', 'a', 'a', 'e', 'a', 'e', 'a', 'e', 'o', 'u', 'a', 'a',\n",
       "       'u', 'e'], dtype='<U1')"
      ]
     },
     "execution_count": 190,
     "metadata": {},
     "output_type": "execute_result"
    }
   ],
   "source": [
    "np.random.choice(letters,15,p=[0.4,0.3,0.1,0.1,0.1]) # p is probability of occurence of that particular letter"
   ]
  },
  {
   "cell_type": "code",
   "execution_count": 192,
   "id": "b1af38e9-2836-46c8-b8c1-f2667c4230a8",
   "metadata": {},
   "outputs": [],
   "source": [
    "array = np.random.randint(10,20,(5,5))\n",
    "np.save('array_file',array) #extension:.npy"
   ]
  },
  {
   "cell_type": "code",
   "execution_count": 194,
   "id": "79280382-c0b0-4165-8aa4-0e8a92ef53b4",
   "metadata": {},
   "outputs": [
    {
     "name": "stdout",
     "output_type": "stream",
     "text": [
      "[[10 18 19 15 16]\n",
      " [17 11 16 17 12]\n",
      " [15 13 10 14 10]\n",
      " [12 18 18 12 15]\n",
      " [16 17 11 18 14]]\n"
     ]
    }
   ],
   "source": [
    "a = np.load('array_file.npy')\n",
    "print(a)"
   ]
  },
  {
   "cell_type": "code",
   "execution_count": null,
   "id": "d052d395-0c23-4d36-b795-f0847340b762",
   "metadata": {},
   "outputs": [],
   "source": []
  }
 ],
 "metadata": {
  "kernelspec": {
   "display_name": "Python [conda env:base] *",
   "language": "python",
   "name": "conda-base-py"
  },
  "language_info": {
   "codemirror_mode": {
    "name": "ipython",
    "version": 3
   },
   "file_extension": ".py",
   "mimetype": "text/x-python",
   "name": "python",
   "nbconvert_exporter": "python",
   "pygments_lexer": "ipython3",
   "version": "3.12.7"
  }
 },
 "nbformat": 4,
 "nbformat_minor": 5
}
