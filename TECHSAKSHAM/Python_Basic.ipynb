{
 "cells": [
  {
   "cell_type": "code",
   "execution_count": 9,
   "id": "713f26de-364e-4e0c-a40c-bb37269dbb4e",
   "metadata": {},
   "outputs": [
    {
     "name": "stdout",
     "output_type": "stream",
     "text": [
      "Hello World\n"
     ]
    },
    {
     "data": {
      "text/plain": [
       "'Hello World'"
      ]
     },
     "execution_count": 9,
     "metadata": {},
     "output_type": "execute_result"
    }
   ],
   "source": [
    "print(\"Hello World\",end=\"\\n\")\n",
    "\"Hello World\""
   ]
  },
  {
   "cell_type": "code",
   "execution_count": 21,
   "id": "b013c1d3-a82e-4830-ad49-70eac70f6d61",
   "metadata": {},
   "outputs": [
    {
     "name": "stdout",
     "output_type": "stream",
     "text": [
      "5\n"
     ]
    },
    {
     "data": {
      "text/plain": [
       "11"
      ]
     },
     "execution_count": 21,
     "metadata": {},
     "output_type": "execute_result"
    }
   ],
   "source": [
    "str=\"Hello\"\n",
    "print(len(str))\n",
    "len(\"Hello World\")"
   ]
  },
  {
   "cell_type": "code",
   "execution_count": 27,
   "id": "c3ede831-3912-4a33-aa48-5715c1aef83f",
   "metadata": {},
   "outputs": [
    {
     "name": "stdout",
     "output_type": "stream",
     "text": [
      "l\n"
     ]
    },
    {
     "data": {
      "text/plain": [
       "'ello'"
      ]
     },
     "execution_count": 27,
     "metadata": {},
     "output_type": "execute_result"
    }
   ],
   "source": [
    "print(str[-2])\n",
    "str[1:]"
   ]
  },
  {
   "cell_type": "code",
   "execution_count": 35,
   "id": "5da4e773-f719-43e8-a73f-c9582aa3c551",
   "metadata": {},
   "outputs": [
    {
     "data": {
      "text/plain": [
       "'Hello'"
      ]
     },
     "execution_count": 35,
     "metadata": {},
     "output_type": "execute_result"
    }
   ],
   "source": [
    "\"Hel\"+str[3:]"
   ]
  },
  {
   "cell_type": "code",
   "execution_count": 41,
   "id": "0b33e536-3593-4250-a7f3-d5713a3ccc06",
   "metadata": {},
   "outputs": [
    {
     "data": {
      "text/plain": [
       "'HELLO'"
      ]
     },
     "execution_count": 41,
     "metadata": {},
     "output_type": "execute_result"
    }
   ],
   "source": [
    "str=str.upper()\n",
    "str"
   ]
  },
  {
   "cell_type": "code",
   "execution_count": 43,
   "id": "16017b7d-e2d7-4fd7-9f93-e692dd1f4967",
   "metadata": {},
   "outputs": [
    {
     "data": {
      "text/plain": [
       "'hello'"
      ]
     },
     "execution_count": 43,
     "metadata": {},
     "output_type": "execute_result"
    }
   ],
   "source": [
    "str.lower()"
   ]
  },
  {
   "cell_type": "code",
   "execution_count": 47,
   "id": "bdc2adbe-12e6-4a0e-aa12-d7717f364189",
   "metadata": {},
   "outputs": [
    {
     "data": {
      "text/plain": [
       "['Hello', 'World']"
      ]
     },
     "execution_count": 47,
     "metadata": {},
     "output_type": "execute_result"
    }
   ],
   "source": [
    "str=\"Hello World\"\n",
    "str.split()"
   ]
  },
  {
   "cell_type": "code",
   "execution_count": 49,
   "id": "d5aafb02-39d2-42d1-9814-f054f46c2a51",
   "metadata": {},
   "outputs": [
    {
     "data": {
      "text/plain": [
       "'Hello Vivek what are you doing?'"
      ]
     },
     "execution_count": 49,
     "metadata": {},
     "output_type": "execute_result"
    }
   ],
   "source": [
    "\"Hello {} what are you {}\".format(\"Vivek\",\"doing?\")"
   ]
  },
  {
   "cell_type": "code",
   "execution_count": 51,
   "id": "62c16984-953d-40d9-ad55-a5f77bddeb85",
   "metadata": {},
   "outputs": [
    {
     "data": {
      "text/plain": [
       "'Hello Vivek what are you doing?'"
      ]
     },
     "execution_count": 51,
     "metadata": {},
     "output_type": "execute_result"
    }
   ],
   "source": [
    "\"Hello {A} what are you {B}\".format(B=\"doing?\",A=\"Vivek\")"
   ]
  },
  {
   "cell_type": "code",
   "execution_count": 81,
   "id": "af77e96d-4ccb-4079-b900-d012ecbe5966",
   "metadata": {},
   "outputs": [
    {
     "data": {
      "text/plain": [
       "['hello', 'pi', 3.14, 4, 5, 6, 7, 8, 9, 10]"
      ]
     },
     "execution_count": 81,
     "metadata": {},
     "output_type": "execute_result"
    }
   ],
   "source": [
    "mylist=['hello',\"pi\",3.14,4,5,6,7,8,9,10]\n",
    "mylist"
   ]
  },
  {
   "cell_type": "code",
   "execution_count": 83,
   "id": "33dd5bbb-8e83-49c1-937b-35fb29c99530",
   "metadata": {},
   "outputs": [
    {
     "data": {
      "text/plain": [
       "['hello', 'pi', 3.14, 4, 5]"
      ]
     },
     "execution_count": 83,
     "metadata": {},
     "output_type": "execute_result"
    }
   ],
   "source": [
    "mylist[0:5]"
   ]
  },
  {
   "cell_type": "code",
   "execution_count": 87,
   "id": "f7df8c65-8688-4f00-ae35-5edecd0a4725",
   "metadata": {},
   "outputs": [
    {
     "data": {
      "text/plain": [
       "['hello', 'pi', 3.14, 4, 5, 6, 7, 8, 9, 10, 'Sunflower', 'rose']"
      ]
     },
     "execution_count": 87,
     "metadata": {},
     "output_type": "execute_result"
    }
   ],
   "source": [
    "mylist = mylist+['Sunflower']\n",
    "mylist+=['rose']\n",
    "mylist"
   ]
  },
  {
   "cell_type": "code",
   "execution_count": 91,
   "id": "c380fc13-1573-45c8-8208-d7739bf64070",
   "metadata": {},
   "outputs": [
    {
     "data": {
      "text/plain": [
       "[1, 23, 4, 5, 67]"
      ]
     },
     "execution_count": 91,
     "metadata": {},
     "output_type": "execute_result"
    }
   ],
   "source": [
    "nlist=[1,23,4,5]\n",
    "nlist.append(67)\n",
    "nlist"
   ]
  },
  {
   "cell_type": "code",
   "execution_count": 93,
   "id": "7f09ac4a-f344-466c-af6b-5fa32387a07b",
   "metadata": {},
   "outputs": [
    {
     "data": {
      "text/plain": [
       "[1, 23, 4, 5]"
      ]
     },
     "execution_count": 93,
     "metadata": {},
     "output_type": "execute_result"
    }
   ],
   "source": [
    "nlist.pop()\n",
    "nlist"
   ]
  },
  {
   "cell_type": "code",
   "execution_count": 123,
   "id": "8ffd673f-af20-4c98-8e05-c7fd21d4ec77",
   "metadata": {},
   "outputs": [
    {
     "data": {
      "text/plain": [
       "3"
      ]
     },
     "execution_count": 123,
     "metadata": {},
     "output_type": "execute_result"
    }
   ],
   "source": [
    "dict={'key1':1,'key2':[1,2,3],'key3':['one','two','three']}\n",
    "dict['key2'][2]"
   ]
  },
  {
   "cell_type": "code",
   "execution_count": 125,
   "id": "4b2675cd-033e-41c7-86d3-705a504e6a0a",
   "metadata": {},
   "outputs": [
    {
     "data": {
      "text/plain": [
       "'ONE'"
      ]
     },
     "execution_count": 125,
     "metadata": {},
     "output_type": "execute_result"
    }
   ],
   "source": [
    "dict['key3'][0].upper()"
   ]
  },
  {
   "cell_type": "code",
   "execution_count": 127,
   "id": "05566e98-de6f-4f5e-91c5-294c7d7fecad",
   "metadata": {},
   "outputs": [
    {
     "data": {
      "text/plain": [
       "{'key1': 2, 'key2': [1, 2, 3], 'key3': ['one', 'two', 'three']}"
      ]
     },
     "execution_count": 127,
     "metadata": {},
     "output_type": "execute_result"
    }
   ],
   "source": [
    "dict['key1']=dict['key1']+1\n",
    "dict"
   ]
  },
  {
   "cell_type": "code",
   "execution_count": 129,
   "id": "0f082fb0-fc09-40f2-9c7a-0c75dd861d0b",
   "metadata": {},
   "outputs": [
    {
     "data": {
      "text/plain": [
       "(1, 2, 3, 'arziz', 'edu')"
      ]
     },
     "execution_count": 129,
     "metadata": {},
     "output_type": "execute_result"
    }
   ],
   "source": [
    "mytuple=(1,2,3,'arziz','edu')\n",
    "mytuple"
   ]
  },
  {
   "cell_type": "code",
   "execution_count": 131,
   "id": "0c15e1da-40b7-467c-95e4-3e92c0cf8ac2",
   "metadata": {},
   "outputs": [
    {
     "data": {
      "text/plain": [
       "5"
      ]
     },
     "execution_count": 131,
     "metadata": {},
     "output_type": "execute_result"
    }
   ],
   "source": [
    "len(mytuple)"
   ]
  },
  {
   "cell_type": "code",
   "execution_count": 133,
   "id": "2671f05d-21e6-456d-af36-93a028e4333b",
   "metadata": {},
   "outputs": [
    {
     "data": {
      "text/plain": [
       "'edu'"
      ]
     },
     "execution_count": 133,
     "metadata": {},
     "output_type": "execute_result"
    }
   ],
   "source": [
    "mytuple[-1]"
   ]
  },
  {
   "cell_type": "code",
   "execution_count": 139,
   "id": "88862686-77c4-4fbb-9954-9c1872ff8f3f",
   "metadata": {},
   "outputs": [],
   "source": [
    "myset={1,2,3,4,'2'}"
   ]
  },
  {
   "cell_type": "code",
   "execution_count": 145,
   "id": "dc6b32de-c661-4841-ac7b-0c423be101be",
   "metadata": {},
   "outputs": [
    {
     "data": {
      "text/plain": [
       "{1, 2, '2', 3, 4, 9}"
      ]
     },
     "execution_count": 145,
     "metadata": {},
     "output_type": "execute_result"
    }
   ],
   "source": [
    "myset.add(9)\n",
    "myset"
   ]
  },
  {
   "cell_type": "code",
   "execution_count": 149,
   "id": "f5e4b31e-1038-488a-8b7f-7a1ccdb85724",
   "metadata": {},
   "outputs": [
    {
     "name": "stdout",
     "output_type": "stream",
     "text": [
      "Hello\n"
     ]
    }
   ],
   "source": [
    "if True:\n",
    "    print(\"Hello\")"
   ]
  },
  {
   "cell_type": "code",
   "execution_count": 151,
   "id": "656003d9-46d9-4fca-ab28-e6c111bef6f9",
   "metadata": {},
   "outputs": [
    {
     "name": "stdout",
     "output_type": "stream",
     "text": [
      "yo\n"
     ]
    }
   ],
   "source": [
    "loc=\"s\"\n",
    "if loc=='a':\n",
    "    print('a')\n",
    "elif loc=='s':\n",
    "    print(\"yo\")\n",
    "else:\n",
    "    print(\"Error\")"
   ]
  },
  {
   "cell_type": "code",
   "execution_count": 9,
   "id": "8b8b955d-dee2-4eeb-973b-9c155896975e",
   "metadata": {},
   "outputs": [
    {
     "name": "stdout",
     "output_type": "stream",
     "text": [
      "50 is greatest among (40, 50, 30)\n"
     ]
    }
   ],
   "source": [
    "a,b,c=40,50,30\n",
    "if a>b and a>c:\n",
    "    print(f'{a} is greatest among {a,b,c}')\n",
    "elif b>a and b>c:\n",
    "    print(f'{b} is greatest among {a,b,c}')\n",
    "else:\n",
    "    print(f'{c} is greatest among {a,b,c}')z"
   ]
  },
  {
   "cell_type": "code",
   "execution_count": 23,
   "id": "6ce615c8-b939-415a-8636-7f366fa693d2",
   "metadata": {},
   "outputs": [
    {
     "name": "stdin",
     "output_type": "stream",
     "text": [
      "Enter the number: 3550\n"
     ]
    },
    {
     "name": "stdout",
     "output_type": "stream",
     "text": [
      "43600\n"
     ]
    }
   ],
   "source": [
    "#unit=3550\n",
    "unit = int(input('Enter the number:'))\n",
    "bill=0\n",
    "for i in range(1,unit+1):\n",
    "    if i < 201:\n",
    "        continue\n",
    "    elif i < 501:\n",
    "        bill+=8\n",
    "    elif i < 1001:\n",
    "        bill+=11\n",
    "    else:\n",
    "        bill+=14\n",
    "print(bill"
   ]
  },
  {
   "cell_type": "code",
   "execution_count": 41,
   "id": "d1fbb3ab-1fdb-4144-ab99-977f5d74b79d",
   "metadata": {},
   "outputs": [
    {
     "name": "stdout",
     "output_type": "stream",
     "text": [
      "895000.0\n"
     ]
    }
   ],
   "source": [
    "#total,saving=int(input('Enter the Total Income:')),int(input('Enter the saving amount'))\n",
    "total,saving=4500000,150000\n",
    "saving=min(saving,200000)\n",
    "rem=total-saving\n",
    "total_tax=0\n",
    "if rem >= 1000000:\n",
    "    total_tax += 1000000*0.1\n",
    "    rem-=1000000\n",
    "if rem >= 1200000:\n",
    "    total_tax+=1200000*0.2\n",
    "    rem-=1200000\n",
    "total_tax+=rem*0.3\n",
    "print(total_tax)"
   ]
  },
  {
   "cell_type": "code",
   "execution_count": null,
   "id": "1eaaf373-3abe-41b9-813c-5a72b9371f00",
   "metadata": {},
   "outputs": [],
   "source": [
    "'''\n",
    "1 10 lakh 10%\n",
    "2  next 15 15%\n",
    "3 next 18%\n",
    "    for 1 yr\n",
    "    '''"
   ]
  },
  {
   "cell_type": "code",
   "execution_count": 1,
   "id": "caac1bf4-d272-4b4f-a089-5864a670df4a",
   "metadata": {},
   "outputs": [
    {
     "name": "stdout",
     "output_type": "stream",
     "text": [
      "1045000.0\n"
     ]
    }
   ],
   "source": [
    "amt = 6500000\n",
    "intr=0\n",
    "if amt>1000000:\n",
    "    intr+=1000000*0.1\n",
    "    amt-=1000000\n",
    "if amt>1500000:\n",
    "    intr+=1500000*0.15\n",
    "    amt-=1500000\n",
    "if amt>0:\n",
    "    intr+=amt*0.18\n",
    "print(intr)"
   ]
  },
  {
   "cell_type": "code",
   "execution_count": null,
   "id": "1f27b711-dc73-4ad4-a3e5-d75cc81c28e0",
   "metadata": {},
   "outputs": [],
   "source": [
    "# Electricity Bill Calculation\n",
    "\n",
    "def calculate_electricity_bill(units):\n",
    "    if units <= 200:\n",
    "        bill = 0\n",
    "    elif units <= 500:\n",
    "        bill = (units - 200) * 8\n",
    "    elif units <= 1000:\n",
    "        bill = (300 * 8) + (units - 500) * 11\n",
    "    else:\n",
    "        bill = (300 * 8) + (500 * 11) + (units - 1000) * 14\n",
    "    \n",
    "    return bill\n",
    "\n",
    "units = int(input(\"Enter the number of units consumed: \"))\n",
    "bill_amount = calculate_electricity_bill(units)\n",
    "\n",
    "print(f\"Total electricity bill for {units} units: Rs. {bill_amount}\")\n",
    "\n",
    "\n",
    "#2nd code\n",
    "def calculate_tax(salary, savings):\n",
    "    deductible_savings = min(savings, 200000)\n",
    "    taxable_salary = salary - deductible_savings\n",
    "\n",
    "    if taxable_salary <= 1000000:\n",
    "        return taxable_salary * 0.10\n",
    "    elif taxable_salary <= 2200000:\n",
    "        return 100000 + (taxable_salary - 1000000) * 0.20\n",
    "    else:\n",
    "        return 340000 + (taxable_salary - 2200000) * 0.30\n",
    "\n",
    "# Eg:\n",
    "salaries_savings = [(4500000, 150000), (6200000, 350000)]\n",
    "\n",
    "for salary, savings in salaries_savings:\n",
    "    tax = calculate_tax(salary, savings)\n",
    "    print(f\"For Salary: ₹{salary}, Savings: ₹{savings} -> Tax to be paid: ₹{tax:.2f}\")\n",
    "\n",
    "\n",
    "#3rd code\n",
    "def calculate_fd_interest(amount, years=1):\n",
    "    first_limit = 10_00_000  \n",
    "    second_limit = 15_00_000 \n",
    "    remaining_limit = amount - (first_limit + second_limit)\n",
    "    \n",
    "    interest_first = first_limit * 0.10 * years  \n",
    "    interest_second = second_limit * 0.15 * years \n",
    "    interest_remaining = remaining_limit * 0.18 * years  \n",
    "    \n",
    "    total_interest = interest_first + interest_second + interest_remaining\n",
    "    \n",
    "    return total_interest\n",
    "\n",
    "# Total FD amount\n",
    "fd_amount = 65_00_000\n",
    "interest_earned = calculate_fd_interest(fd_amount, 1)  \n",
    "print(f\"Total interest earned in 1 year on ₹{fd_amount}: ₹{interest_earned}\")"
   ]
  },
  {
   "cell_type": "code",
   "execution_count": 1,
   "id": "aaac80a3-beb1-42d3-8c1a-2c1bdd3458dc",
   "metadata": {},
   "outputs": [
    {
     "name": "stdin",
     "output_type": "stream",
     "text": [
      "Enter the Number: 12\n"
     ]
    },
    {
     "name": "stdout",
     "output_type": "stream",
     "text": [
      "12 is not prime\n"
     ]
    }
   ],
   "source": [
    "#PRIME NUMBERS\n",
    "\n",
    "no = int(input('Enter the Number:'))\n",
    "x=0\n",
    "for i in range(2,(no+1)//2):\n",
    "    if no%i==0:\n",
    "        x=1\n",
    "        print(f'{no} is not prime')\n",
    "        break\n",
    "if(x==0):\n",
    "    print(f'{no} is prime')"
   ]
  },
  {
   "cell_type": "code",
   "execution_count": 43,
   "id": "8c7149af-b127-4cbb-b40f-6187655c1c38",
   "metadata": {},
   "outputs": [
    {
     "name": "stdin",
     "output_type": "stream",
     "text": [
      "Enter the Number: 153\n"
     ]
    },
    {
     "name": "stdout",
     "output_type": "stream",
     "text": [
      "153 is Armstrong Number\n"
     ]
    }
   ],
   "source": [
    "#ARMSTRONG NUMBER\n",
    "\n",
    "no = input('Enter the Number:')\n",
    "len_no=len(no)\n",
    "sum=0\n",
    "for i in no:\n",
    "    sum+=int(i)**len_no\n",
    "if int(no)==sum:\n",
    "    print(f'{no} is Armstrong Number')\n",
    "else:\n",
    "    print(f'{no} is not an Armstrong Number')"
   ]
  },
  {
   "cell_type": "code",
   "execution_count": 15,
   "id": "914ed490-dde1-4d32-a91e-3ab0a65ac8b5",
   "metadata": {},
   "outputs": [
    {
     "name": "stdout",
     "output_type": "stream",
     "text": [
      "    *\n",
      "   ***\n",
      "  *****\n",
      " *******\n",
      "*********\n"
     ]
    }
   ],
   "source": [
    "#PATTERN TRIANGLE\n",
    "\n",
    "n = 5\n",
    "for i in range(1, n + 1):\n",
    "    print(' ' * (n - i) + '*' * (2 * i - 1))\n"
   ]
  },
  {
   "cell_type": "code",
   "execution_count": 35,
   "id": "7f2a7720-6b60-42c0-8d7d-11a32c9e5ce3",
   "metadata": {},
   "outputs": [
    {
     "name": "stdout",
     "output_type": "stream",
     "text": [
      "    1 \n",
      "   2 3 \n",
      "  4 5 6 \n",
      " 7 8 9 10 \n",
      "11 12 13 14 15 \n"
     ]
    }
   ],
   "source": [
    "#PATTERN TRIANGLE\n",
    "\n",
    "n = 5\n",
    "num = 1  \n",
    "for i in range(1, n + 1):\n",
    "    print(' ' * (n - i), end='')  \n",
    "    for x in range(1, i + 1):\n",
    "        print(num, end=' ')  \n",
    "        num += 1  \n",
    "    print()  \n",
    "\n"
   ]
  },
  {
   "cell_type": "code",
   "execution_count": 37,
   "id": "0b994b7e-28d8-4885-8090-47a469708a44",
   "metadata": {},
   "outputs": [
    {
     "name": "stdout",
     "output_type": "stream",
     "text": [
      "    1 \n",
      "   2 2 \n",
      "  3 3 3 \n",
      " 4 4 4 4 \n",
      "5 5 5 5 5 \n"
     ]
    }
   ],
   "source": [
    "n = 5\n",
    "num = 1  \n",
    "for i in range(1, n + 1):\n",
    "    print(' ' * (n - i), end='')  \n",
    "    for x in range(1, i + 1):\n",
    "        print(num, end=' ')  \n",
    "    num += 1  \n",
    "    print()  "
   ]
  },
  {
   "cell_type": "code",
   "execution_count": 39,
   "id": "52321b32-a2b6-43f8-9e45-1816323830d5",
   "metadata": {},
   "outputs": [
    {
     "name": "stdout",
     "output_type": "stream",
     "text": [
      "*********\n",
      " *******\n",
      "  *****\n",
      "   ***\n",
      "    *\n"
     ]
    }
   ],
   "source": [
    "n = 5\n",
    "for i in range(n, 0, -1):\n",
    "    print(' ' * (n - i) + '*' * (2 * i - 1))\n"
   ]
  },
  {
   "cell_type": "code",
   "execution_count": 41,
   "id": "5b94895b-8342-4af4-a315-b65ae8fb4122",
   "metadata": {},
   "outputs": [
    {
     "name": "stdout",
     "output_type": "stream",
     "text": [
      "    *\n",
      "   ***\n",
      "  *****\n",
      " *******\n",
      "*********\n",
      " *******\n",
      "  *****\n",
      "   ***\n",
      "    *\n"
     ]
    }
   ],
   "source": [
    "n = 5\n",
    "for i in range(1, n + 1):\n",
    "    print(' ' * (n - i) + '*' * (2 * i - 1))\n",
    "for i in range(n-1, 0, -1):\n",
    "    print(' ' * (n - i) + '*' * (2 * i - 1))"
   ]
  },
  {
   "cell_type": "code",
   "execution_count": 59,
   "id": "2a9d369f-a654-4bc0-8058-025dc5731b3b",
   "metadata": {},
   "outputs": [
    {
     "name": "stdin",
     "output_type": "stream",
     "text": [
      "Enter the Number: 1\n",
      "Enter the Number: 15\n"
     ]
    },
    {
     "name": "stdout",
     "output_type": "stream",
     "text": [
      "2 is prime\n",
      "3 is prime\n",
      "4 is prime\n",
      "5 is prime\n",
      "7 is prime\n",
      "11 is prime\n",
      "13 is prime\n"
     ]
    }
   ],
   "source": [
    "no1 = int(input('Enter the Number:'))\n",
    "no2 = int(input('Enter the Number:'))\n",
    "\n",
    "for no in range(no1,no2):\n",
    "    if no == 1:\n",
    "        continue\n",
    "    x=0\n",
    "    for i in range(2,(no+1)//2):\n",
    "        if no%i==0:\n",
    "            x=1\n",
    "            #print(f'{no} is not prime')\n",
    "            break\n",
    "    if(x==0):\n",
    "        print(f'{no} is prime')"
   ]
  },
  {
   "cell_type": "code",
   "execution_count": 55,
   "id": "3632acb0-b56e-45ba-90b2-f7ea9b92dbc4",
   "metadata": {},
   "outputs": [
    {
     "name": "stdout",
     "output_type": "stream",
     "text": [
      "[1, 3, 4, 5, 5, 7, 9]\n"
     ]
    }
   ],
   "source": [
    "#ASCENDING ORDER\n",
    "\n",
    "l=[1,5,3,7,9,4,5]\n",
    "for i in range(len(l)):\n",
    "    for j in range(len(l)):\n",
    "        if l[i]<l[j]:\n",
    "            l[i],l[j]=l[j],l[i]\n",
    "print(l)"
   ]
  },
  {
   "cell_type": "code",
   "execution_count": 57,
   "id": "84e9109a-6d9c-42fa-8e57-6e860649325a",
   "metadata": {},
   "outputs": [
    {
     "name": "stdout",
     "output_type": "stream",
     "text": [
      "[9, 7, 5, 5, 4, 3, 1]\n"
     ]
    }
   ],
   "source": [
    "#DESCENDING ORDER\n",
    "\n",
    "l=[1,5,3,7,9,4,5]\n",
    "for i in range(len(l)):\n",
    "    for j in range(len(l)):\n",
    "        if l[i]>l[j]:\n",
    "            l[i],l[j]=l[j],l[i]\n",
    "print(l)"
   ]
  },
  {
   "cell_type": "code",
   "execution_count": 69,
   "id": "34b2fe57-81ec-4412-ab42-0ff69b50843c",
   "metadata": {},
   "outputs": [
    {
     "name": "stdin",
     "output_type": "stream",
     "text": [
      "Enter the term till you want to genrate the series: 5\n"
     ]
    },
    {
     "name": "stdout",
     "output_type": "stream",
     "text": [
      "0 1 1 2 3 "
     ]
    }
   ],
   "source": [
    "#FIBONACCI SERIES\n",
    "\n",
    "a,b=0,1\n",
    "n=int(input('Enter the term till you want to genrate the series:'))\n",
    "print(a,b,end=' ')\n",
    "for _ in range(n-2):\n",
    "    c=a+b\n",
    "    a,b=b,c\n",
    "    print(c,end=' ')"
   ]
  },
  {
   "cell_type": "code",
   "execution_count": 77,
   "id": "aede83d4-1713-4adc-ad36-c26d4d6a8b69",
   "metadata": {},
   "outputs": [
    {
     "name": "stdout",
     "output_type": "stream",
     "text": [
      "arthsarahaM,rupaloS,ygolonhceT fo etutitsnI DNAHCLAW\n"
     ]
    }
   ],
   "source": [
    "sentence=\"WALCHAND Institute of Technology,Solapur,Maharashtra\"\n",
    "rev=\"\"\n",
    "for c in range(len(sentence)-1,-1,-1):\n",
    "    rev+=sentence[c]\n",
    "print(rev)"
   ]
  },
  {
   "cell_type": "code",
   "execution_count": 85,
   "id": "c98fa9f6-1f7e-4ba0-b50d-03f65480df67",
   "metadata": {},
   "outputs": [
    {
     "name": "stdout",
     "output_type": "stream",
     "text": [
      "['W', 'L', 'H', 'N', ' ', 'n', 't', 't', 't', ' ', 'f', 'T', 'c', 'n', 'l', 'g', ',', 'o', 'a', 'u', ',', 'a', 'a', 'a', 'h', 'r']\n"
     ]
    }
   ],
   "source": [
    "sentence=\"WALCHAND Institute of Technology,Solapur,Maharashtra\"\n",
    "res=[]\n",
    "for i in range(len(sentence)):\n",
    "    if i%2==0:\n",
    "        res.append(sentence[i])\n",
    "print(res)"
   ]
  },
  {
   "cell_type": "code",
   "execution_count": 87,
   "id": "6a5bae69-ccb5-42e9-afc6-5d7cf21c5856",
   "metadata": {},
   "outputs": [
    {
     "name": "stdout",
     "output_type": "stream",
     "text": [
      "['A', 'C', 'A', 'D', 'I', 's', 'i', 'u', 'e', 'o', ' ', 'e', 'h', 'o', 'o', 'y', 'S', 'l', 'p', 'r', 'M', 'h', 'r', 's', 't', 'a']\n"
     ]
    }
   ],
   "source": [
    "sentence=\"WALCHAND Institute of Technology,Solapur,Maharashtra\"\n",
    "res=[]\n",
    "for i in range(len(sentence)):\n",
    "    if i%2==1:\n",
    "        res.append(sentence[i])\n",
    "print(res)"
   ]
  },
  {
   "cell_type": "code",
   "execution_count": 95,
   "id": "79c01708-32c1-40bf-ac97-5991a38375b8",
   "metadata": {},
   "outputs": [
    {
     "name": "stdout",
     "output_type": "stream",
     "text": [
      "['WALCHAND ', 'Institute ', 'of ', 'Technology,Solapur,Maharashtra']\n"
     ]
    }
   ],
   "source": [
    "sentence=\"WALCHAND Institute of Technology,Solapur,Maharashtra\"\n",
    "res=[]\n",
    "x=\"\"\n",
    "for i in range(len(sentence)):\n",
    "    x+=str(sentence[i])\n",
    "    if sentence[i]==\" \":\n",
    "        res.append(x)\n",
    "        x=\"\"\n",
    "res.append(x)\n",
    "print(res)"
   ]
  },
  {
   "cell_type": "code",
   "execution_count": 123,
   "id": "4851c986-edf7-49a2-be2a-739917fe6fad",
   "metadata": {},
   "outputs": [
    {
     "name": "stdout",
     "output_type": "stream",
     "text": [
      "['A', 'A', 'I', 'i', 'u', 'e', 'o', 'e', 'o', 'o', 'o', 'a', 'u', 'a', 'a', 'a', 'a']\n"
     ]
    }
   ],
   "source": [
    "sentence=\"WALCHAND Institute of Technology,Solapur,Maharashtra\"\n",
    "vowels=['a','e','i','o','u']\n",
    "res=[]\n",
    "for i in range(len(sentence)):\n",
    "    if sentence[i].lower() in (vowels):\n",
    "        res.append(sentence[i])\n",
    "print(res)"
   ]
  },
  {
   "cell_type": "code",
   "execution_count": 117,
   "id": "1465fdd8-fa97-4c57-906e-7a1c59f53ba9",
   "metadata": {},
   "outputs": [
    {
     "name": "stdout",
     "output_type": "stream",
     "text": [
      "{'W': 1, 'A': 2, 'L': 1, 'C': 1, 'H': 1, 'N': 1, 'D': 1, ' ': 3, 'I': 1, 'n': 2, 's': 2, 't': 4, 'i': 1, 'u': 2, 'e': 2, 'o': 4, 'f': 1, 'T': 1, 'c': 1, 'h': 3, 'l': 2, 'g': 1, 'y': 1, ',': 2, 'S': 1, 'a': 5, 'p': 1, 'r': 3, 'M': 1}\n"
     ]
    }
   ],
   "source": [
    "sentence=\"WALCHAND Institute of Technology,Solapur,Maharashtra\"\n",
    "count={}\n",
    "for i in sentence:\n",
    "    if i in count:\n",
    "        count[i]+=1\n",
    "    else:\n",
    "        count[i]=1\n",
    "print(count)\n",
    "        "
   ]
  },
  {
   "cell_type": "code",
   "execution_count": 9,
   "id": "d4f2f600-d65a-4988-ac29-d8b319cdbbf8",
   "metadata": {},
   "outputs": [
    {
     "name": "stdout",
     "output_type": "stream",
     "text": [
      "51\n"
     ]
    }
   ],
   "source": [
    "def length(sen):\n",
    "    count=0\n",
    "    for i in sen:\n",
    "        count+=1\n",
    "    print(count)\n",
    "length(\"Walchand Institue of Technology,Solapur,Maharahstra\")"
   ]
  },
  {
   "cell_type": "code",
   "execution_count": 55,
   "id": "b9533610-bcf3-42d0-9fec-aa57583649da",
   "metadata": {},
   "outputs": [
    {
     "name": "stdout",
     "output_type": "stream",
     "text": [
      "SAMKIT CHOPDA"
     ]
    }
   ],
   "source": [
    "def Upper(sen):\n",
    "    for c in sen:\n",
    "        if c==' ':\n",
    "            print(' ',end='')\n",
    "        if c.islower():\n",
    "            print(chr(ord(c)-32),end='')\n",
    "Upper(\"samkit chopda\")"
   ]
  },
  {
   "cell_type": "code",
   "execution_count": 53,
   "id": "7460e4cf-ca43-461a-9c16-127bf9a190d1",
   "metadata": {},
   "outputs": [
    {
     "name": "stdout",
     "output_type": "stream",
     "text": [
      "samkit chopda"
     ]
    }
   ],
   "source": [
    "def Lower(sen):\n",
    "    for c in sen:\n",
    "        if c==' ':\n",
    "            print(' ',end='')\n",
    "        if c.isupper():\n",
    "            print(chr(ord(c)+32),end='')\n",
    "Lower(\"SAMKIT CHOPDA\")"
   ]
  },
  {
   "cell_type": "code",
   "execution_count": 3,
   "id": "2c3aa789-b877-4f3a-8243-c40eaa28618b",
   "metadata": {},
   "outputs": [
    {
     "name": "stdin",
     "output_type": "stream",
     "text": [
      "Enter a Number 12\n"
     ]
    },
    {
     "name": "stdout",
     "output_type": "stream",
     "text": [
      "12 is not a prime number\n"
     ]
    }
   ],
   "source": [
    "#WHILE ELSE\n",
    "no=int(input('Enter a Number'))\n",
    "x=2\n",
    "while(x!=(no//2)+1):\n",
    "    if no%x==0:\n",
    "        print(f'{no} is not a prime number')\n",
    "        break\n",
    "    x+=1\n",
    "else:\n",
    "    print(f'{no} is a prime number')"
   ]
  },
  {
   "cell_type": "code",
   "execution_count": 9,
   "id": "102df32e-3426-4a11-8b8e-e166f8a0b86d",
   "metadata": {},
   "outputs": [
    {
     "name": "stdin",
     "output_type": "stream",
     "text": [
      "Enter a Number 123\n"
     ]
    },
    {
     "name": "stdout",
     "output_type": "stream",
     "text": [
      "123 is not an Armstrong Number\n"
     ]
    }
   ],
   "source": [
    "#ARM STRONG USING WHILE\n",
    "num=no=int(input('Enter a Number'))\n",
    "x=len(str(no))\n",
    "sum=0\n",
    "while(no!=0):\n",
    "    sum+=(no%10)**x\n",
    "    no=no//10\n",
    "if num==sum:\n",
    "    print(f'{num} is an Armstrong Number')\n",
    "else:\n",
    "    print(f'{num} is not an Armstrong Number')"
   ]
  },
  {
   "cell_type": "code",
   "execution_count": 15,
   "id": "674b836c-2a98-424d-b77c-3a672adc8cac",
   "metadata": {},
   "outputs": [
    {
     "name": "stdin",
     "output_type": "stream",
     "text": [
      "Enter the term till you want to genrate the fibonacci series: 5\n"
     ]
    },
    {
     "name": "stdout",
     "output_type": "stream",
     "text": [
      "0 1 1 2 3"
     ]
    }
   ],
   "source": [
    "#FIBONACCI SERIES USING WHILE\n",
    "a,b=0,1\n",
    "no=int(input('Enter the term till you want to genrate the fibonacci series:'))-2\n",
    "print(a,b,end='')\n",
    "if no>=1:\n",
    "    while(no!=0):\n",
    "        c=a+b\n",
    "        a,b=b,c\n",
    "        print(f' {c}',end='')\n",
    "        no-=1\n",
    "    "
   ]
  },
  {
   "cell_type": "code",
   "execution_count": 17,
   "id": "9a18ca8d-7197-409f-bbc7-f8736aedadde",
   "metadata": {},
   "outputs": [
    {
     "name": "stdout",
     "output_type": "stream",
     "text": [
      "arthsarahaM,rupaloS,ygolonhceT fo etutitsnI DNAHCLAW"
     ]
    }
   ],
   "source": [
    "sentence=\"WALCHAND Institute of Technology,Solapur,Maharashtra\"\n",
    "x=len(sentence)-1\n",
    "while x!=-1:\n",
    "    print(sentence[x],end='')\n",
    "    x-=1"
   ]
  },
  {
   "cell_type": "code",
   "execution_count": 3,
   "id": "e715f5c5-bef0-43aa-8164-49d84689aec9",
   "metadata": {},
   "outputs": [
    {
     "name": "stdout",
     "output_type": "stream",
     "text": [
      "W L H N   n t t t   f T c n l g , o a u , a a a h r "
     ]
    }
   ],
   "source": [
    "sentence=\"WALCHAND Institute of Technology,Solapur,Maharashtra\"\n",
    "x=len(sentence)-1\n",
    "z=0\n",
    "while z!=x:\n",
    "    if z%2==0:\n",
    "        print(sentence[z],end=' ')\n",
    "    z+=1"
   ]
  },
  {
   "cell_type": "code",
   "execution_count": 5,
   "id": "9a205099-5917-4b1e-bc8d-2aa31aa2e84c",
   "metadata": {},
   "outputs": [
    {
     "name": "stdout",
     "output_type": "stream",
     "text": [
      "A C A D I s i u e o   e h o o y S l p r M h r s t "
     ]
    }
   ],
   "source": [
    "sentence=\"WALCHAND Institute of Technology,Solapur,Maharashtra\"\n",
    "x=len(sentence)-1\n",
    "z=0\n",
    "while z!=x:\n",
    "    if z%2==1:\n",
    "        print(sentence[z],end=' ')\n",
    "    z+=1"
   ]
  },
  {
   "cell_type": "code",
   "execution_count": 13,
   "id": "dac946a0-9fb4-46b3-8f4c-0921ef58e53a",
   "metadata": {},
   "outputs": [
    {
     "name": "stdout",
     "output_type": "stream",
     "text": [
      "['WALCHAND', 'Institute', 'of', 'Technology,Solapur,Maharashtra']\n"
     ]
    }
   ],
   "source": [
    "sentence=\"WALCHAND Institute of Technology,Solapur,Maharashtra\"\n",
    "x,y,z=len(sentence),\"\",0\n",
    "res=[]\n",
    "while z!=x:\n",
    "    if sentence[z]==' ':\n",
    "        res.append(y)\n",
    "        y=\"\"\n",
    "    else:\n",
    "        y+=sentence[z]\n",
    "    z+=1\n",
    "res.append(y)\n",
    "print(res)"
   ]
  },
  {
   "cell_type": "code",
   "execution_count": 9,
   "id": "30b56223-6938-4c38-901f-d80b09827c2d",
   "metadata": {},
   "outputs": [
    {
     "name": "stdout",
     "output_type": "stream",
     "text": [
      "['a', 'a', 'a', 'a', 'u', 'a', 'o', 'o', 'o', 'e', 'o', 'e', 'u', 'i', 'I', 'A', 'A']\n"
     ]
    }
   ],
   "source": [
    "sentence=\"WALCHAND Institute of Technology,Solapur,Maharashtra\"\n",
    "vowels,res=['a','e','i','o','u'],[]\n",
    "x=len(sentence)-1\n",
    "while(x!=-1):\n",
    "    if sentence[x].lower() in vowels:\n",
    "        res.append(sentence[x])\n",
    "    x-=1\n",
    "print(res)"
   ]
  },
  {
   "cell_type": "code",
   "execution_count": 15,
   "id": "0bd7bec8-8d6c-49d7-a1f2-5f5deaf26c83",
   "metadata": {},
   "outputs": [
    {
     "name": "stdout",
     "output_type": "stream",
     "text": [
      "{'a': 5, 'r': 3, 't': 4, 'h': 3, 's': 2, 'M': 1, ',': 2, 'u': 2, 'p': 1, 'l': 2, 'o': 4, 'S': 1, 'y': 1, 'g': 1, 'n': 2, 'c': 1, 'e': 2, 'T': 1, ' ': 3, 'f': 1, 'i': 1, 'I': 1, 'D': 1, 'N': 1, 'A': 2, 'H': 1, 'C': 1, 'L': 1, 'W': 1}\n"
     ]
    }
   ],
   "source": [
    "sentence=\"WALCHAND Institute of Technology,Solapur,Maharashtra\"\n",
    "count={}\n",
    "i=len(sentence)-1\n",
    "while i!=-1:\n",
    "    if sentence[i] in count:\n",
    "        count[sentence[i]]+=1\n",
    "    else:\n",
    "        count[sentence[i]]=1\n",
    "    i-=1\n",
    "print(count)"
   ]
  },
  {
   "cell_type": "code",
   "execution_count": 23,
   "id": "15e798f2-3fd5-4d23-b7f8-4d0610d5444c",
   "metadata": {},
   "outputs": [
    {
     "name": "stdout",
     "output_type": "stream",
     "text": [
      "52\n"
     ]
    }
   ],
   "source": [
    "sentence=\"WALCHAND Institute of Technology,Solapur,Maharashtra\"\n",
    "x,count=len(sentence)-1,0\n",
    "while x!=-1:\n",
    "    count+=1\n",
    "    x-=1\n",
    "print(count)"
   ]
  },
  {
   "cell_type": "code",
   "execution_count": 25,
   "id": "596d85de-ea20-4f1e-a1f0-e01a5dc7f5b8",
   "metadata": {},
   "outputs": [
    {
     "name": "stdin",
     "output_type": "stream",
     "text": [
      "Enter the number: 3\n"
     ]
    },
    {
     "name": "stdout",
     "output_type": "stream",
     "text": [
      "3 is a prime number\n"
     ]
    }
   ],
   "source": [
    "def prime_number(no):\n",
    "    x=2\n",
    "    while(x!=(no//2)+1):\n",
    "        if no%x==0:\n",
    "            print(f'{no} is not a prime number')\n",
    "            break\n",
    "        x+=1\n",
    "    else:\n",
    "        print(f'{no} is a prime number')\n",
    "prime_number(int(input('Enter the number:')))"
   ]
  },
  {
   "cell_type": "code",
   "execution_count": 27,
   "id": "5b989a28-b0f7-4d8f-a66d-794f4b695ce4",
   "metadata": {},
   "outputs": [
    {
     "name": "stdin",
     "output_type": "stream",
     "text": [
      "Enter a Number 153\n"
     ]
    },
    {
     "name": "stdout",
     "output_type": "stream",
     "text": [
      "153 is an Armstrong Number\n"
     ]
    }
   ],
   "source": [
    "def Armstrong_Number():\n",
    "    num=no=int(input('Enter a Number'))\n",
    "    x=len(str(no))\n",
    "    sum=0\n",
    "    while(no!=0):\n",
    "        sum+=(no%10)**x\n",
    "        no=no//10\n",
    "    if num==sum:\n",
    "        print(f'{num} is an Armstrong Number')\n",
    "    else:\n",
    "        print(f'{num} is not an Armstrong Number')\n",
    "Armstrong_Number()"
   ]
  },
  {
   "cell_type": "code",
   "execution_count": 29,
   "id": "5ee2d4bc-a4d9-42a9-b2b0-79db353319ca",
   "metadata": {},
   "outputs": [
    {
     "name": "stdin",
     "output_type": "stream",
     "text": [
      "Enter the term till you want to genrate the fibonacci series: 5\n"
     ]
    },
    {
     "name": "stdout",
     "output_type": "stream",
     "text": [
      "0 1 1 2 3"
     ]
    }
   ],
   "source": [
    "def Fibonacci_Series(no):\n",
    "    a,b=0,1\n",
    "    print(a,b,end='')\n",
    "    if no>=1:\n",
    "        while(no!=0):\n",
    "            c=a+b\n",
    "            a,b=b,c\n",
    "            print(f' {c}',end='')\n",
    "            no-=1\n",
    "Fibonacci_Series(int(input('Enter the term till you want to genrate the fibonacci series:'))-2)"
   ]
  },
  {
   "cell_type": "code",
   "execution_count": 31,
   "id": "8a248e15-e146-4ceb-b4c8-be613253140c",
   "metadata": {},
   "outputs": [
    {
     "name": "stdout",
     "output_type": "stream",
     "text": [
      "arthsarahaM,rupaloS,ygolonhceT fo etutitsnI DNAHCLAW"
     ]
    }
   ],
   "source": [
    "def reverse():\n",
    "    sentence=\"WALCHAND Institute of Technology,Solapur,Maharashtra\"\n",
    "    x=len(sentence)-1\n",
    "    while x!=-1:\n",
    "        print(sentence[x],end='')\n",
    "        x-=1\n",
    "reverse()"
   ]
  },
  {
   "cell_type": "code",
   "execution_count": 33,
   "id": "a01e1f48-9fdf-47ee-affb-cf246d2f4d47",
   "metadata": {},
   "outputs": [
    {
     "name": "stdout",
     "output_type": "stream",
     "text": [
      "W L H N   n t t t   f T c n l g , o a u , a a a h r "
     ]
    }
   ],
   "source": [
    "def Even_Characters():\n",
    "    sentence=\"WALCHAND Institute of Technology,Solapur,Maharashtra\"\n",
    "    x=len(sentence)-1\n",
    "    z=0\n",
    "    while z!=x:\n",
    "        if z%2==0:\n",
    "            print(sentence[z],end=' ')\n",
    "        z+=1\n",
    "Even_Characters()"
   ]
  },
  {
   "cell_type": "code",
   "execution_count": 35,
   "id": "a56f2a7f-0766-4abc-ad79-8ff7012b4a04",
   "metadata": {},
   "outputs": [
    {
     "name": "stdout",
     "output_type": "stream",
     "text": [
      "A C A D I s i u e o   e h o o y S l p r M h r s t "
     ]
    }
   ],
   "source": [
    "def Odd_Characters():\n",
    "    sentence=\"WALCHAND Institute of Technology,Solapur,Maharashtra\"\n",
    "    x=len(sentence)-1\n",
    "    z=0\n",
    "    while z!=x:\n",
    "        if z%2==1:\n",
    "            print(sentence[z],end=' ')\n",
    "        z+=1\n",
    "Odd_Characters()"
   ]
  },
  {
   "cell_type": "code",
   "execution_count": 37,
   "id": "cee8ec42-44d2-49b9-bb63-9b7b92fa0b66",
   "metadata": {},
   "outputs": [
    {
     "name": "stdout",
     "output_type": "stream",
     "text": [
      "['WALCHAND', 'Institute', 'of', 'Technology,Solapur,Maharashtra']\n"
     ]
    }
   ],
   "source": [
    "def Split():\n",
    "    sentence=\"WALCHAND Institute of Technology,Solapur,Maharashtra\"\n",
    "    x,y,z=len(sentence),\"\",0\n",
    "    res=[]\n",
    "    while z!=x:\n",
    "        if sentence[z]==' ':\n",
    "            res.append(y)\n",
    "            y=\"\"\n",
    "        else:\n",
    "            y+=sentence[z]\n",
    "        z+=1\n",
    "    res.append(y)\n",
    "    print(res)\n",
    "Split()"
   ]
  },
  {
   "cell_type": "code",
   "execution_count": 39,
   "id": "d414a2d1-8ead-4af9-9bca-df7ee9525494",
   "metadata": {},
   "outputs": [
    {
     "name": "stdout",
     "output_type": "stream",
     "text": [
      "['a', 'a', 'a', 'a', 'u', 'a', 'o', 'o', 'o', 'e', 'o', 'e', 'u', 'i', 'I', 'A', 'A']\n"
     ]
    }
   ],
   "source": [
    "def Vowels_Extracter():\n",
    "    sentence=\"WALCHAND Institute of Technology,Solapur,Maharashtra\"\n",
    "    vowels,res=['a','e','i','o','u'],[]\n",
    "    x=len(sentence)-1\n",
    "    while(x!=-1):\n",
    "        if sentence[x].lower() in vowels:\n",
    "            res.append(sentence[x])\n",
    "        x-=1\n",
    "    print(res)\n",
    "Vowels_Extracter()"
   ]
  },
  {
   "cell_type": "code",
   "execution_count": 41,
   "id": "237d9b24-034c-4547-952f-5735e7bd40ca",
   "metadata": {},
   "outputs": [
    {
     "name": "stdout",
     "output_type": "stream",
     "text": [
      "{'a': 5, 'r': 3, 't': 4, 'h': 3, 's': 2, 'M': 1, ',': 2, 'u': 2, 'p': 1, 'l': 2, 'o': 4, 'S': 1, 'y': 1, 'g': 1, 'n': 2, 'c': 1, 'e': 2, 'T': 1, ' ': 3, 'f': 1, 'i': 1, 'I': 1, 'D': 1, 'N': 1, 'A': 2, 'H': 1, 'C': 1, 'L': 1, 'W': 1}\n"
     ]
    }
   ],
   "source": [
    "def Alphabets_Counter():\n",
    "    sentence=\"WALCHAND Institute of Technology,Solapur,Maharashtra\"\n",
    "    count={}\n",
    "    i=len(sentence)-1\n",
    "    while i!=-1:\n",
    "        if sentence[i] in count:\n",
    "            count[sentence[i]]+=1\n",
    "        else:\n",
    "            count[sentence[i]]=1\n",
    "        i-=1\n",
    "    print(count)\n",
    "Alphabets_Counter()"
   ]
  },
  {
   "cell_type": "code",
   "execution_count": 43,
   "id": "5df927e0-aa7c-44f1-a564-cbc5f70ecf96",
   "metadata": {},
   "outputs": [
    {
     "name": "stdout",
     "output_type": "stream",
     "text": [
      "52\n"
     ]
    }
   ],
   "source": [
    "def Length_Finder():\n",
    "    sentence=\"WALCHAND Institute of Technology,Solapur,Maharashtra\"\n",
    "    x,count=len(sentence)-1,0\n",
    "    while x!=-1:\n",
    "        count+=1\n",
    "        x-=1\n",
    "    print(count)\n",
    "Length_Finder()"
   ]
  },
  {
   "cell_type": "code",
   "execution_count": 1,
   "id": "598a40ee-ebcc-456f-96a3-d0a019279294",
   "metadata": {},
   "outputs": [
    {
     "name": "stdout",
     "output_type": "stream",
     "text": [
      "Toyota 2016\n"
     ]
    }
   ],
   "source": [
    "class car:\n",
    "    def __init__(self,modelname,year):\n",
    "        self.modelname=modelname\n",
    "        self.year=year\n",
    "    def display(self):\n",
    "        print(self.modelname,self.year)\n",
    "c1 = car(\"Toyota\",2016)\n",
    "c1.display()"
   ]
  },
  {
   "cell_type": "code",
   "execution_count": 3,
   "id": "46fe7506-cfb0-4f0f-b2c1-e92d5ebf99f6",
   "metadata": {},
   "outputs": [
    {
     "name": "stdout",
     "output_type": "stream",
     "text": [
      "Xpulse 2019\n"
     ]
    }
   ],
   "source": [
    "class vehicle:\n",
    "    def __init__(self,make_model,make_year):\n",
    "        self.model=make_model\n",
    "        self.year=make_year\n",
    "\n",
    "    def display(self):\n",
    "        print(self.model,self.year)\n",
    "\n",
    "v = vehicle('Xpulse',2019)\n",
    "v.display()"
   ]
  },
  {
   "cell_type": "code",
   "execution_count": 9,
   "id": "9dca8c9a-0de1-429c-bd0f-31c02bf962a9",
   "metadata": {},
   "outputs": [
    {
     "name": "stdout",
     "output_type": "stream",
     "text": [
      "science\n"
     ]
    },
    {
     "name": "stdin",
     "output_type": "stream",
     "text": [
      "Enter the name of the book:  science\n"
     ]
    },
    {
     "name": "stdout",
     "output_type": "stream",
     "text": [
      "oxford dictionary\n"
     ]
    }
   ],
   "source": [
    "class Books:\n",
    "    books=[]\n",
    "    def __init__(self,book_titles):\n",
    "        self.book=book_titles\n",
    "    def add_book(self):\n",
    "        Books.books.append((self.book).lower())\n",
    "    def remove_book(self):\n",
    "        Books.books.remove(input('Enter the name of the book: ').lower())\n",
    "    def display_collection(self):\n",
    "        for x in Books.books:\n",
    "            print(x)\n",
    "b = Books('Science')\n",
    "b.add_book()\n",
    "b.display_collection()\n",
    "b.remove_book()\n",
    "\n",
    "b1 = Books('Oxford Dictionary')\n",
    "b1.add_book()\n",
    "b1.display_collection()"
   ]
  },
  {
   "cell_type": "code",
   "execution_count": 11,
   "id": "7bf1b68a-2612-46f6-aec0-a52242089a10",
   "metadata": {},
   "outputs": [],
   "source": [
    "class Sample:\n",
    "    pass\n",
    "x=Sample()"
   ]
  },
  {
   "cell_type": "code",
   "execution_count": 19,
   "id": "d1d880a2-d31d-4e2f-b3e8-4a7331c129b5",
   "metadata": {},
   "outputs": [
    {
     "name": "stdout",
     "output_type": "stream",
     "text": [
      "mammal\n",
      "mammal\n",
      "Rodger\n",
      "Tommy\n"
     ]
    }
   ],
   "source": [
    "class Dog:\n",
    "    attr1=\"mammal\"\n",
    "    def __init__(self,name):\n",
    "        self.name=name\n",
    "Rodger = Dog(\"Rodger\")\n",
    "Tommy = Dog(\"Tommy\")\n",
    "print(Rodger.__class__.attr1)\n",
    "print(Tommy.__class__.attr1)\n",
    "print(Rodger.name)\n",
    "print(Tommy.name)"
   ]
  },
  {
   "cell_type": "code",
   "execution_count": 23,
   "id": "572efb6e-ddf7-4bc2-80a0-a246723df817",
   "metadata": {},
   "outputs": [
    {
     "data": {
      "text/plain": [
       "[2, 4, 6]"
      ]
     },
     "execution_count": 23,
     "metadata": {},
     "output_type": "execute_result"
    }
   ],
   "source": [
    "def get_even_list(l):\n",
    "    even_no=[]\n",
    "    for num in l:\n",
    "        if num%2==0:\n",
    "            even_no.append(num)\n",
    "    return even_no\n",
    "get_even_list([1,2,3,4,5,6])"
   ]
  },
  {
   "cell_type": "code",
   "execution_count": 29,
   "id": "e756bba7-d555-44d2-a09a-0b82224578ee",
   "metadata": {},
   "outputs": [
    {
     "data": {
      "text/plain": [
       "[2, 4, 6]"
      ]
     },
     "execution_count": 29,
     "metadata": {},
     "output_type": "execute_result"
    }
   ],
   "source": [
    "def get_even_list(l):\n",
    "    even_no=[num for num in l if num%2==0 ]\n",
    "    return even_no\n",
    "get_even_list([1,2,3,4,5,6])"
   ]
  },
  {
   "cell_type": "code",
   "execution_count": 41,
   "id": "663abd18-513f-48da-89fd-00c83423e657",
   "metadata": {},
   "outputs": [
    {
     "name": "stdout",
     "output_type": "stream",
     "text": [
      "Rahul\n",
      "886012\n",
      "My name is Rahul\n",
      "IDnumber: 886012\n",
      "Post: Intern\n",
      "Salary: 20000\n"
     ]
    }
   ],
   "source": [
    "class Person(object):\n",
    "    def __init__(self,name,idnumber):\n",
    "        self.name=name\n",
    "        self.idnumber=idnumber\n",
    "\n",
    "    def display(self):\n",
    "        print(self.name)\n",
    "        print(self.idnumber)\n",
    "\n",
    "    def details(self):\n",
    "        print(f\"My name is{self.name}\")\n",
    "        print(f\"idNumber = {self.idnumber}\")\n",
    "\n",
    "class Employee(Person):\n",
    "    def __init__(self,name,idnumber,salary,post):\n",
    "        self.salary=salary\n",
    "        self.post=post\n",
    "        Person.__init__(self,name,idnumber)\n",
    "\n",
    "    def details(self):\n",
    "        print(f\"My name is {self.name}\")\n",
    "        print(f\"IDnumber: {self.idnumber}\")\n",
    "        print(f\"Post: {self.post}\")\n",
    "        print(f\"Salary: {self.salary}\")\n",
    "\n",
    "a = Employee('Rahul',886012,20000,'Intern')\n",
    "a.display()\n",
    "a.details()"
   ]
  },
  {
   "cell_type": "code",
   "execution_count": 73,
   "id": "e5b6f925-5fe2-4c62-aff1-eb41adfbc9aa",
   "metadata": {},
   "outputs": [
    {
     "name": "stdout",
     "output_type": "stream",
     "text": [
      "Grandfather name:Virendra\n",
      "Grandfather age:71\n",
      "\n",
      "Grandmother name:Seema\n",
      "Grandmother age:67\n",
      "\n",
      "Father name:Rohit\n",
      "Father age:39\n",
      "\n",
      "My name:Sumit\n",
      "My age:15\n"
     ]
    }
   ],
   "source": [
    "class Dad:\n",
    "    def __init__(self,dname,dage):\n",
    "        self.dname=dname\n",
    "        self.dage=dage\n",
    "    def dad_name(self):\n",
    "        return self.dname\n",
    "    def dad_age(self):\n",
    "        return self.dage\n",
    "\n",
    "class Mom:\n",
    "    def __init__(self,mname,mage):\n",
    "        self.mname=mname\n",
    "        self.mage=mage\n",
    "    def mom_name(self):\n",
    "        return self.mname\n",
    "    def mom_age(self):\n",
    "        return self.mage\n",
    "\n",
    "class Child(Dad,Mom):\n",
    "    def __init__(self,cname,cage,dname,dage,mname,mage):\n",
    "        self.name=cname\n",
    "        self.age=cage\n",
    "        Dad.__init__(self,dname,dage)\n",
    "        Mom.__init__(self,mname,mage)\n",
    "\n",
    "    def child_and_Father_details(self):\n",
    "        print(f\"My name is {self.name} and my father name is {self.dad_name()}\")\n",
    "        \n",
    "    def child_and_Mother_details(self):\n",
    "        print(f\"My name is {self.name} and my mother name is {self.mom_name()}\")\n",
    "\n",
    "    def child_name(self):\n",
    "        return self.name\n",
    "\n",
    "    def child_age(self):\n",
    "        return self.age\n",
    "\n",
    "'''c = Child('Rohit',20,'Virendra',55,'Seema',51)\n",
    "c.child_and_Father_details()\n",
    "c.child_and_Mother_details()\n",
    "'''\n",
    "\n",
    "\n",
    "class Grand_Child(Child):\n",
    "    def __init__(self,gname,gage,cname,cage,dname,dage,mname,mage):\n",
    "        self.gname=gname\n",
    "        self.gage=gage\n",
    "        Child.__init__(self,cname,cage,dname,dage,mname,mage)\n",
    "\n",
    "    def family_details(self):\n",
    "        print(f\"Grandfather name:{self.dad_name()}\\nGrandfather age:{self.dad_age()}\",end=\"\\n\\n\")\n",
    "        print(f\"Grandmother name:{self.mom_name()}\\nGrandmother age:{self.mom_age()}\",end=\"\\n\\n\")\n",
    "        print(f\"Father name:{self.child_name()}\\nFather age:{self.child_age()}\",end=\"\\n\\n\")\n",
    "        print(f\"My name:{self.gname}\\nMy age:{self.gage}\")\n",
    "\n",
    "g = Grand_Child('Sumit',15,'Rohit',39,'Virendra',71,'Seema',67)\n",
    "g.family_details()"
   ]
  },
  {
   "cell_type": "code",
   "execution_count": 75,
   "id": "18e69183-2546-4e4e-a745-f243c158c85f",
   "metadata": {},
   "outputs": [
    {
     "name": "stdout",
     "output_type": "stream",
     "text": [
      "I play Cricket\n",
      "I play Football\n",
      "I play Volleyball\n"
     ]
    }
   ],
   "source": [
    "class Play:\n",
    "    def __init__(self, sport_name, players, duration, equipment_needed):\n",
    "        self.sport_name = sport_name\n",
    "        self.players = players\n",
    "        self.duration = duration\n",
    "        self.equipment_needed = equipment_needed\n",
    "    \n",
    "    def cricket(self):\n",
    "        print(f\"I play Cricket with {self.players} players. Duration: {self.duration} hours. Equipment: {self.equipment_needed}\")\n",
    "    \n",
    "    def football(self):\n",
    "        print(f\"I play Football with {self.players} players. Duration: {self.duration} hours. Equipment: {self.equipment_needed}\")\n",
    "    \n",
    "    def Volleyball(self):\n",
    "        print(f\"I play Volleyball with {self.players} players. Duration: {self.duration} hours. Equipment: {self.equipment_needed}\")\n",
    "\n",
    "p = Play(sport_name=\"Cricket\", players=11, duration=3, equipment_needed=\"Bat, Ball, Stumps\")\n",
    "p.cricket()\n",
    "\n",
    "p = Play(sport_name=\"Football\", players=22, duration=2, equipment_needed=\"Football, Goalposts\")\n",
    "p.football()\n",
    "\n",
    "p = Play(sport_name=\"Volleyball\", players=12, duration=1.5, equipment_needed=\"Volleyball, Net\")\n",
    "p.Volleyball()\n"
   ]
  },
  {
   "cell_type": "code",
   "execution_count": 81,
   "id": "40cf140c-e628-418e-8288-29307ad83409",
   "metadata": {},
   "outputs": [
    {
     "name": "stdout",
     "output_type": "stream",
     "text": [
      "153 is not a Palindrome\n",
      "153 is not a prime number\n",
      "153 is an Armstrong Number\n",
      "11 is a Palindrome\n",
      "11 is a prime number\n",
      "11 is not an Armstrong Number\n",
      "13 is not a Palindrome\n",
      "13 is a prime number\n",
      "13 is not an Armstrong Number\n"
     ]
    }
   ],
   "source": [
    "class Number:\n",
    "    def __init__(self, no):\n",
    "        self.no = no\n",
    "\n",
    "    def Palindrome(self):\n",
    "        no_str = str(self.no)\n",
    "        if no_str == ''.join(reversed(no_str)):\n",
    "            return f\"{self.no} is a Palindrome\"\n",
    "        else:\n",
    "            return f\"{self.no} is not a Palindrome\"\n",
    "\n",
    "    def prime_number(self):\n",
    "        if self.no <= 1:\n",
    "            print(f'{self.no} is not a prime number')\n",
    "            return\n",
    "        for x in range(2, int(self.no**0.5) + 1):\n",
    "            if self.no % x == 0:\n",
    "                print(f'{self.no} is not a prime number')\n",
    "                return\n",
    "        print(f'{self.no} is a prime number')\n",
    "\n",
    "    def Armstrong_Number(self):\n",
    "        num = self.no\n",
    "        x = len(str(self.no))\n",
    "        sum = 0\n",
    "        while num != 0:\n",
    "            sum += (num % 10) ** x\n",
    "            num //= 10\n",
    "        if self.no == sum:\n",
    "            print(f'{self.no} is an Armstrong Number')\n",
    "        else:\n",
    "            print(f'{self.no} is not an Armstrong Number')\n",
    "\n",
    "\n",
    "n = Number(153)\n",
    "print(n.Palindrome())\n",
    "n.prime_number()\n",
    "n.Armstrong_Number()\n",
    "\n",
    "no = Number(11)\n",
    "print(no.Palindrome())\n",
    "no.prime_number()\n",
    "no.Armstrong_Number()\n",
    "\n",
    "num = Number(13)\n",
    "print(num.Palindrome())\n",
    "num.prime_number()\n",
    "num.Armstrong_Number()\n"
   ]
  },
  {
   "cell_type": "code",
   "execution_count": 95,
   "id": "ac8cf238-43eb-445f-93d1-d247f3ed53ec",
   "metadata": {},
   "outputs": [
    {
     "name": "stdout",
     "output_type": "stream",
     "text": [
      "[9, 7, 5, 3, 1]\n",
      "[1, 3, 5, 7, 9]\n",
      "[9, 7, 3, 5, 1]\n"
     ]
    }
   ],
   "source": [
    "class Parent:\n",
    "    l=[1,5,3,7,9]\n",
    "    def __init__(self):\n",
    "        pass\n",
    "    def reverse(self):\n",
    "        Parent.l=Parent.l[::-1]\n",
    "        print(Parent.l)\n",
    "    def ascending(self):\n",
    "        print(sorted(Parent.l))\n",
    "    def decending(self):\n",
    "        print(list(reversed(sorted(Parent.l))))\n",
    "\n",
    "p=Parent()\n",
    "p.decending()\n",
    "p.ascending()\n",
    "p.reverse()"
   ]
  },
  {
   "cell_type": "code",
   "execution_count": null,
   "id": "a58c8f7f-f043-4d42-a403-cfbafd75a989",
   "metadata": {},
   "outputs": [],
   "source": []
  }
 ],
 "metadata": {
  "kernelspec": {
   "display_name": "Python [conda env:base] *",
   "language": "python",
   "name": "conda-base-py"
  },
  "language_info": {
   "codemirror_mode": {
    "name": "ipython",
    "version": 3
   },
   "file_extension": ".py",
   "mimetype": "text/x-python",
   "name": "python",
   "nbconvert_exporter": "python",
   "pygments_lexer": "ipython3",
   "version": "3.12.7"
  }
 },
 "nbformat": 4,
 "nbformat_minor": 5
}
