{
 "cells": [
  {
   "cell_type": "code",
   "execution_count": null,
   "id": "ca211a66-c56c-43da-8960-95e63bd76594",
   "metadata": {},
   "outputs": [],
   "source": []
  }
 ],
 "metadata": {
  "kernelspec": {
   "display_name": "",
   "name": ""
  },
  "language_info": {
   "name": ""
  }
 },
 "nbformat": 4,
 "nbformat_minor": 5
}
