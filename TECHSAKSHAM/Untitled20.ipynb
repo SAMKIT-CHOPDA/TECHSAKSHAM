{
 "cells": [
  {
   "cell_type": "code",
   "execution_count": 3,
   "id": "9996f162-e6a3-4c6c-bd1f-b3741785b2f7",
   "metadata": {},
   "outputs": [
    {
     "data": {
      "text/plain": [
       "True"
      ]
     },
     "execution_count": 3,
     "metadata": {},
     "output_type": "execute_result"
    }
   ],
   "source": [
    "import cv2\n",
    "import numpy as np\n",
    "from rembg import remove\n",
    "from PIL import Image\n",
    "\n",
    "# Load Haar Cascade for face detection\n",
    "face_cascade = cv2.CascadeClassifier(cv2.data.haarcascades + \"haarcascade_frontalface_default.xml\")\n",
    "\n",
    "# Read the image\n",
    "image_path = \"D:\\\\TechSaksham\\\\input.jpg\"\n",
    "image = cv2.imread(image_path)\n",
    "\n",
    "# Handle missing image file\n",
    "if image is None:\n",
    "    print(\"Error: Could not load image. Check the file path.\")\n",
    "    exit()\n",
    "\n",
    "# Convert to grayscale\n",
    "gray_image = cv2.cvtColor(image, cv2.COLOR_BGR2GRAY)\n",
    "\n",
    "# Apply Gaussian Blur\n",
    "blurred_image = cv2.GaussianBlur(image, (35, 35), 0)\n",
    "\n",
    "# Apply Edge Detection (Canny)\n",
    "edges = cv2.Canny(image, 50, 150)\n",
    "\n",
    "# Detect Faces (using grayscale image)\n",
    "faces = face_cascade.detectMultiScale(gray_image, scaleFactor=1.1, minNeighbors=5, minSize=(30, 30))\n",
    "\n",
    "# Draw Rectangles around detected faces\n",
    "for (x, y, w, h) in faces:\n",
    "    cv2.rectangle(image, (x, y), (x + w, y + h), (0, 255, 0), 3)\n",
    "\n",
    "# Fix for OpenCV pencilSketch error: Convert grayscale to BGR\n",
    "gray_bgr = cv2.cvtColor(gray_image, cv2.COLOR_GRAY2BGR)\n",
    "\n",
    "# Apply Pencil Sketch Effect\n",
    "sketch_gray, sketch_color = cv2.pencilSketch(gray_bgr, sigma_s=60, sigma_r=0.07, shade_factor=0.05)\n",
    "\n",
    "# Background Removal Using rembg\n",
    "input_image = Image.open(image_path)\n",
    "output_image = remove(input_image)\n",
    "output_image = cv2.cvtColor(np.array(output_image), cv2.COLOR_RGBA2BGR)  # Convert to BGR\n",
    "\n",
    "# Save the processed images\n",
    "cv2.imwrite(\"D:\\\\Techsaksham\\\\Project\\\\gray_image.jpg\", gray_image)\n",
    "cv2.imwrite(\"D:\\\\Techsaksham\\\\Project\\\\blurred_image.jpg\", blurred_image)\n",
    "cv2.imwrite(\"D:\\\\Techsaksham\\\\Project\\\\edges.jpg\", edges)\n",
    "cv2.imwrite(\"D:\\\\Techsaksham\\\\Project\\\\face_detected.jpg\", image)  # Save face-detected image\n",
    "cv2.imwrite(\"D:\\\\Techsaksham\\\\Project\\\\pencil_sketch.jpg\", sketch_gray)  # Save pencil sketch effect\n",
    "cv2.imwrite(\"D:\\\\Techsaksham\\\\Project\\\\background_removed.jpg\", output_image)  # Save background removed image\n",
    "\n",
    "#cv2.destroyAllWindows()\n"
   ]
  },
  {
   "cell_type": "code",
   "execution_count": null,
   "id": "f611c4bf-9752-471d-8112-e357f098c49f",
   "metadata": {},
   "outputs": [],
   "source": []
  }
 ],
 "metadata": {
  "kernelspec": {
   "display_name": "Python [conda env:base] *",
   "language": "python",
   "name": "conda-base-py"
  },
  "language_info": {
   "codemirror_mode": {
    "name": "ipython",
    "version": 3
   },
   "file_extension": ".py",
   "mimetype": "text/x-python",
   "name": "python",
   "nbconvert_exporter": "python",
   "pygments_lexer": "ipython3",
   "version": "3.12.7"
  }
 },
 "nbformat": 4,
 "nbformat_minor": 5
}
