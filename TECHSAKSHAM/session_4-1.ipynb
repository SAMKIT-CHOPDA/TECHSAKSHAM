{
 "cells": [
  {
   "cell_type": "code",
   "execution_count": 9,
   "id": "fa75e1f8-41cc-4edf-b04a-61604e673236",
   "metadata": {},
   "outputs": [
    {
     "name": "stdin",
     "output_type": "stream",
     "text": [
      "Enter thr Numbers Seprated by space (1 2 3): 1 2 3 4 5 6 7 8 9 10\n",
      "Enter you choice 1.Add 2.Sub 3. Mul 4.Div 5.Exit : 3\n"
     ]
    },
    {
     "name": "stdout",
     "output_type": "stream",
     "text": [
      "Multiplication of given numbers is:3628800.0\n"
     ]
    },
    {
     "name": "stdin",
     "output_type": "stream",
     "text": [
      "Enter thr Numbers Seprated by space (1 2 3): 1234567890\n",
      "Enter you choice 1.Add 2.Sub 3. Mul 4.Div 5.Exit : 1\n"
     ]
    },
    {
     "name": "stdout",
     "output_type": "stream",
     "text": [
      "Summation of given Numbers is:1234567890.0\n"
     ]
    },
    {
     "name": "stdin",
     "output_type": "stream",
     "text": [
      "Enter thr Numbers Seprated by space (1 2 3): 5\n",
      "Enter you choice 1.Add 2.Sub 3. Mul 4.Div 5.Exit : 5\n"
     ]
    }
   ],
   "source": [
    "def add(*args):\n",
    "    return(f'Summation of given Numbers is:{sum([float(x) for x in args])}')\n",
    "def mul(*args):\n",
    "    multiplication=1\n",
    "    for x in args:\n",
    "        multiplication*=float(x)\n",
    "    return(f'Multiplication of given numbers is:{multiplication}')\n",
    "def sub(*args):\n",
    "    res=float(args[0])\n",
    "    for x in args[1:]:\n",
    "        res-=float(x)\n",
    "    return(f'Substraction of all the given numbers is:{res}')\n",
    "def div(*args):\n",
    "    res=float(args[0])\n",
    "    for x in args[1:]:\n",
    "        res/=float(x)\n",
    "    return(f'Division of all the given number is:{res}')\n",
    "def menu():\n",
    "    while True:\n",
    "        args = input('Enter thr Numbers Seprated by space (1 2 3):').split()\n",
    "        no = int(input('Enter you choice 1.Add 2.Sub 3. Mul 4.Div 5.Exit :'))\n",
    "        \n",
    "        if no == 1:\n",
    "            print(add(*args))\n",
    "        elif no == 2:\n",
    "            print(sub(*args))\n",
    "        elif no == 3:\n",
    "            print(mul(*args))\n",
    "        elif no == 4:\n",
    "            print(div(*args))\n",
    "        elif no == 5:\n",
    "            break\n",
    "        else:\n",
    "            print('You Entered Wrong choice Please Select Between (1 to 4)')\n",
    "menu()"
   ]
  },
  {
   "cell_type": "code",
   "execution_count": 17,
   "id": "6e305d6e-1b36-418b-9e36-0527015eb350",
   "metadata": {},
   "outputs": [
    {
     "name": "stdin",
     "output_type": "stream",
     "text": [
      "Enter the arithemetic expression: 3**7\n"
     ]
    },
    {
     "name": "stdout",
     "output_type": "stream",
     "text": [
      "2187\n"
     ]
    }
   ],
   "source": [
    "print(eval(input('Enter the arithemetic expression:')))"
   ]
  },
  {
   "cell_type": "code",
   "execution_count": 78,
   "id": "b38b732b-3e10-464b-bc50-90da354105ab",
   "metadata": {},
   "outputs": [
    {
     "name": "stdout",
     "output_type": "stream",
     "text": [
      "0.5048314780324052 3 lotus\n"
     ]
    }
   ],
   "source": [
    "import random\n",
    "x = random.random() # values between 0 to 1\n",
    "x1= random.randint(1,6) # randomaly genrate values between 1 to 6\n",
    "x2 = random.choice(['rose','sunflower','lotus']) # pass list as an input and will give random output\n",
    "print(x,x1,x2)"
   ]
  },
  {
   "cell_type": "code",
   "execution_count": 114,
   "id": "1f50f50f-9dfb-42af-993b-80687f9846c0",
   "metadata": {},
   "outputs": [
    {
     "name": "stdin",
     "output_type": "stream",
     "text": [
      "Enter the Name of the users(',') Aadi,Shaad,Aditya,Samkit,Vinayak,Kiran,Darshan\n"
     ]
    },
    {
     "name": "stdout",
     "output_type": "stream",
     "text": [
      "Aditya has to pay the bill\n"
     ]
    }
   ],
   "source": [
    "names=input(\"Enter the Name of the users(',')\").split(',')\n",
    "print(names[random.randint(0,len(names)-1)]+\" has to pay the bill\")"
   ]
  },
  {
   "cell_type": "code",
   "execution_count": 126,
   "id": "5be68732-c53d-493d-aaed-fae5465c2ad4",
   "metadata": {},
   "outputs": [
    {
     "name": "stdout",
     "output_type": "stream",
     "text": [
      "You have 3 chances left\n"
     ]
    },
    {
     "name": "stdin",
     "output_type": "stream",
     "text": [
      "Guess the Number: 5\n"
     ]
    },
    {
     "name": "stdout",
     "output_type": "stream",
     "text": [
      "You Guessed too Large Number\n",
      "You have 2 chances left\n"
     ]
    },
    {
     "name": "stdin",
     "output_type": "stream",
     "text": [
      "Guess the Number: 2\n"
     ]
    },
    {
     "name": "stdout",
     "output_type": "stream",
     "text": [
      "You Guessed too small Number\n",
      "You have 1 chances left\n"
     ]
    },
    {
     "name": "stdin",
     "output_type": "stream",
     "text": [
      "Guess the Number: 4\n"
     ]
    },
    {
     "name": "stdout",
     "output_type": "stream",
     "text": [
      "You Guessed the Number Correctly\n"
     ]
    }
   ],
   "source": [
    "x=random.randint(1,10)\n",
    "z=3\n",
    "while z!=0:\n",
    "    print(f'You have {z} chances left')\n",
    "    no=int(input('Guess the Number:'))\n",
    "    if no==x:\n",
    "        print(\"You Guessed the Number Correctly\")\n",
    "        break\n",
    "    elif no > x:\n",
    "        print(\"You Guessed too Large Number\")\n",
    "    else:\n",
    "        print(\"You Guessed too small Number\")\n",
    "    z-=1\n",
    "else:\n",
    "    print(\"You falied to guess the Number\")"
   ]
  },
  {
   "cell_type": "code",
   "execution_count": 13,
   "id": "edcd60ac-a999-4522-8c1c-e7ad46b1a47f",
   "metadata": {},
   "outputs": [
    {
     "name": "stdout",
     "output_type": "stream",
     "text": [
      "Not Present\n",
      "{'name': 'Sam', 'age': 20, 'x': 'Trial Variable'}\n",
      "{'name': 'Sam', 'age': 20}\n"
     ]
    }
   ],
   "source": [
    "dict={'name':'Sam','age':20}\n",
    "print(dict.get('x','Not Present'))\n",
    "dict.update({'x':'Trial Variable'})\n",
    "print(dict)\n",
    "del dict['x']\n",
    "print(dict)"
   ]
  },
  {
   "cell_type": "code",
   "execution_count": 23,
   "id": "fe0b800b-253d-4f71-8480-3c53117e34d5",
   "metadata": {},
   "outputs": [
    {
     "name": "stdout",
     "output_type": "stream",
     "text": [
      "  * * *\n",
      "   * *\n",
      "    *\n"
     ]
    }
   ],
   "source": [
    "for i in range(3,0,-1):\n",
    "    print(\" \"*(3-i),\" *\"*i)"
   ]
  },
  {
   "cell_type": "code",
   "execution_count": 31,
   "id": "d756a7a9-7472-4ad0-9516-e4e71eda8add",
   "metadata": {},
   "outputs": [
    {
     "name": "stdout",
     "output_type": "stream",
     "text": [
      "       *\n",
      "      * *\n",
      "     * * *\n",
      "    * * * *\n",
      "   * * * * *\n"
     ]
    }
   ],
   "source": [
    "for i in range(1,6):\n",
    "    print(\" \"*(6-i),\" *\"*i)"
   ]
  },
  {
   "cell_type": "code",
   "execution_count": 65,
   "id": "19e8b423-806d-42e5-a826-54a110331890",
   "metadata": {},
   "outputs": [
    {
     "name": "stdin",
     "output_type": "stream",
     "text": [
      "Enter a Password: vinnu@diwase63\n"
     ]
    },
    {
     "name": "stdout",
     "output_type": "stream",
     "text": [
      "Strong Password\n"
     ]
    }
   ],
   "source": [
    "passw = input('Enter a Password:')\n",
    "a,b,c=0,0,0\n",
    "if len(passw)>=8 and len(passw)<=16:\n",
    "    for i in passw:\n",
    "        if i.isalpha():\n",
    "            a=1\n",
    "        elif i.isnumeric():\n",
    "            b=1\n",
    "        else:\n",
    "            c=1\n",
    "    if(a==1 and b==1 and c==1):\n",
    "        print(\"Strong Password\"\n",
    "             \n",
    "             \n",
    "             \n",
    "             )\n",
    "    else:\n",
    "        print(\"Password lenght must be between 8 to 16 and should include a alphabet,special char and a digit\")\n",
    "else:\n",
    "    print(\"Password lenght must be between 8 to 16 and should include a alphabet,special char and a digit\")\n",
    "    "
   ]
  },
  {
   "cell_type": "code",
   "execution_count": 75,
   "id": "7db7520d-8752-409f-83c1-a8931ee5d021",
   "metadata": {},
   "outputs": [
    {
     "name": "stdin",
     "output_type": "stream",
     "text": [
      "Enter Number 1: 3\n",
      "Enter Number 2: 2\n",
      "Enter Number 3: 3\n"
     ]
    },
    {
     "name": "stdout",
     "output_type": "stream",
     "text": [
      "2\n"
     ]
    }
   ],
   "source": [
    "x=int(input('Enter Number 1:'))\n",
    "y=int(input('Enter Number 2:'))\n",
    "z=int(input('Enter Number 3:'))\n",
    "\n",
    "if x==y or y==x:\n",
    "    print(z)\n",
    "elif x==z or z==x:\n",
    "    print(y)\n",
    "elif y==z or z==y:\n",
    "    print(x)\n",
    "else:\n",
    "    print(sum([x,y,z]))"
   ]
  },
  {
   "cell_type": "code",
   "execution_count": 77,
   "id": "66aded2d-7e3b-4a70-b41c-2e77441c0968",
   "metadata": {},
   "outputs": [
    {
     "name": "stdout",
     "output_type": "stream",
     "text": [
      "{'W': 1, 'A': 2, 'L': 1, 'C': 1, 'H': 1, 'N': 1, 'D': 1, ' ': 3, 'I': 1, 'n': 2, 's': 2, 't': 4, 'i': 1, 'u': 2, 'e': 2, 'o': 4, 'f': 1, 'T': 1, 'c': 1, 'h': 3, 'l': 2, 'g': 1, 'y': 1, ',': 2, 'S': 1, 'a': 5, 'p': 1, 'r': 3, 'M': 1}\n"
     ]
    }
   ],
   "source": [
    "sentence=\"WALCHAND Institute of Technology,Solapur,Maharashtra\"\n",
    "count={}\n",
    "for i in sentence:\n",
    "    if i in count:\n",
    "        count[i]+=1\n",
    "    else:\n",
    "        count[i]=1\n",
    "print(count)\n",
    "        "
   ]
  },
  {
   "cell_type": "code",
   "execution_count": 79,
   "id": "9718145c-2429-45da-8fd3-543196d1dfbf",
   "metadata": {},
   "outputs": [
    {
     "name": "stdout",
     "output_type": "stream",
     "text": [
      "Fizz\n",
      "Buzz\n",
      "Fizz\n",
      "Fizz\n",
      "Buzz\n",
      "Fizz\n",
      "FizzBuzz\n",
      "Fizz\n",
      "Buzz\n",
      "Fizz\n",
      "Buzz\n",
      "Fizz\n",
      "Fizz\n",
      "Buzz\n",
      "Fizz\n",
      "FizzBuzz\n",
      "Fizz\n",
      "Buzz\n",
      "Fizz\n",
      "Buzz\n",
      "Fizz\n",
      "Fizz\n",
      "Buzz\n",
      "Fizz\n",
      "FizzBuzz\n",
      "Fizz\n",
      "Buzz\n",
      "Fizz\n",
      "Buzz\n",
      "Fizz\n",
      "Fizz\n",
      "Buzz\n",
      "Fizz\n",
      "FizzBuzz\n",
      "Fizz\n",
      "Buzz\n",
      "Fizz\n",
      "Buzz\n",
      "Fizz\n",
      "Fizz\n",
      "Buzz\n",
      "Fizz\n",
      "FizzBuzz\n",
      "Fizz\n",
      "Buzz\n",
      "Fizz\n",
      "Buzz\n",
      "Fizz\n",
      "Fizz\n",
      "Buzz\n",
      "Fizz\n",
      "FizzBuzz\n",
      "Fizz\n",
      "Buzz\n",
      "Fizz\n",
      "Buzz\n",
      "Fizz\n",
      "Fizz\n",
      "Buzz\n"
     ]
    }
   ],
   "source": [
    "for i in range(1,101):\n",
    "    if i%3==0 and i%5==0:\n",
    "        print(\"FizzBuzz\")\n",
    "    if i%3==0:\n",
    "        print(\"Fizz\")\n",
    "    if i%5==0:\n",
    "        print(\"Buzz\")\n",
    "    "
   ]
  },
  {
   "cell_type": "code",
   "execution_count": 85,
   "id": "2b432a9e-eb4a-46d2-8a7f-275a85310dad",
   "metadata": {},
   "outputs": [
    {
     "name": "stdin",
     "output_type": "stream",
     "text": [
      "Enter the Password of Desired Length: 24\n"
     ]
    },
    {
     "name": "stdout",
     "output_type": "stream",
     "text": [
      "*0rtd!RrOW48G(hw#0A0N4da\n"
     ]
    }
   ],
   "source": [
    "import random\n",
    "alph=\"ABCDEFGHIJKLMNOPQRSTUVWXYZabcdefghijklmnopqrstuvwxyz\"\n",
    "numbers=\"0123456789\"\n",
    "sp_c=\"!@#$%^&*()_\"\n",
    "\n",
    "all_ch=alph+numbers+sp_c\n",
    "passw=''.join(random.choice(all_ch) for _ in range(int(input('Enter the Password of Desired Length:'))))\n",
    "print(passw)"
   ]
  },
  {
   "cell_type": "code",
   "execution_count": 103,
   "id": "e6e5e85d-3989-4940-ae0f-3f559ffc3cb1",
   "metadata": {},
   "outputs": [
    {
     "name": "stdin",
     "output_type": "stream",
     "text": [
      "Enter(Rock,Paper,Scissor): paper\n"
     ]
    },
    {
     "name": "stdout",
     "output_type": "stream",
     "text": [
      "User won\n"
     ]
    }
   ],
   "source": [
    "l=['Rock','Paper','Scissor']\n",
    "user=input('Enter(Rock,Paper,Scissor):').lower()\n",
    "com=random.choice(l).lower()\n",
    "if user==\"rock\" and com==\"scissor\":\n",
    "    print(\"User won\")\n",
    "elif user==\"paper\" and com==\"rock\":\n",
    "    print(\"User won\")\n",
    "elif user==\"scissor\" and com==\"paper\":\n",
    "    print(\"User won\")\n",
    "elif user==com:\n",
    "    print(\"Draw\")\n",
    "else:\n",
    "    print(\"User Lost\")\n",
    "          "
   ]
  },
  {
   "cell_type": "code",
   "execution_count": null,
   "id": "3f8ea935-ede6-4709-a624-b40e38c7e172",
   "metadata": {},
   "outputs": [],
   "source": []
  }
 ],
 "metadata": {
  "kernelspec": {
   "display_name": "Python [conda env:base] *",
   "language": "python",
   "name": "conda-base-py"
  },
  "language_info": {
   "codemirror_mode": {
    "name": "ipython",
    "version": 3
   },
   "file_extension": ".py",
   "mimetype": "text/x-python",
   "name": "python",
   "nbconvert_exporter": "python",
   "pygments_lexer": "ipython3",
   "version": "3.12.7"
  }
 },
 "nbformat": 4,
 "nbformat_minor": 5
}
