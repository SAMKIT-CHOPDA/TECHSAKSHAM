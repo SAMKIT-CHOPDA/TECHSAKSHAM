{
 "cells": [
  {
   "cell_type": "code",
   "execution_count": 35,
   "id": "2399bd75-b19d-47e8-8cde-9d58d4746e0e",
   "metadata": {},
   "outputs": [
    {
     "ename": "SyntaxError",
     "evalue": "invalid syntax (3481475229.py, line 1)",
     "output_type": "error",
     "traceback": [
      "\u001b[1;36m  Cell \u001b[1;32mIn[35], line 1\u001b[1;36m\u001b[0m\n\u001b[1;33m    pip install mysql-connector-python\u001b[0m\n\u001b[1;37m        ^\u001b[0m\n\u001b[1;31mSyntaxError\u001b[0m\u001b[1;31m:\u001b[0m invalid syntax\n"
     ]
    }
   ],
   "source": [
    "#pip install mysql-connector-python\n",
    "#pip install mysql"
   ]
  },
  {
   "cell_type": "code",
   "execution_count": 3,
   "id": "5c2ca1c8-a810-4397-8997-d07c6f6dd091",
   "metadata": {},
   "outputs": [],
   "source": [
    "import mysql.connector"
   ]
  },
  {
   "cell_type": "code",
   "execution_count": 5,
   "id": "714bf8e4-30c1-4698-acee-d1f435952aec",
   "metadata": {},
   "outputs": [
    {
     "name": "stdout",
     "output_type": "stream",
     "text": [
      "<mysql.connector.connection_cext.CMySQLConnection object at 0x00000182DFA78770>\n"
     ]
    }
   ],
   "source": [
    "db = mysql.connector.connect(\n",
    "    host=\"localhost\",\n",
    "    user=\"root\",\n",
    "    password=\"password\"\n",
    ")\n",
    "print(db)"
   ]
  },
  {
   "cell_type": "code",
   "execution_count": 7,
   "id": "49eebee3-9705-4766-8679-5b9f6f0b8b10",
   "metadata": {},
   "outputs": [
    {
     "name": "stdout",
     "output_type": "stream",
     "text": [
      "('assignment_schema',)\n",
      "('booklist',)\n",
      "('customer_orders',)\n",
      "('information_schema',)\n",
      "('mysql',)\n",
      "('performance_schema',)\n",
      "('samkit_db',)\n",
      "('studentmanagement',)\n",
      "('sys',)\n",
      "('techsaksham',)\n",
      "('xyz',)\n"
     ]
    }
   ],
   "source": [
    "dbcursor = db.cursor()\n",
    "dbcursor.execute(\"create database if not exists booklist\")\n",
    "dbcursor.execute(\"show databases\")\n",
    "for i in dbcursor:\n",
    "    print(i)"
   ]
  },
  {
   "cell_type": "code",
   "execution_count": 9,
   "id": "5692acea-57e1-4b53-9cf4-886bdfd6f7c7",
   "metadata": {},
   "outputs": [
    {
     "name": "stdout",
     "output_type": "stream",
     "text": [
      "<mysql.connector.connection_cext.CMySQLConnection object at 0x00000182DDCFFE00>\n"
     ]
    }
   ],
   "source": [
    "db = mysql.connector.connect(\n",
    "    host=\"localhost\",\n",
    "    user=\"root\",\n",
    "    password=\"password\",\n",
    "    database=\"booklist\"\n",
    ")\n",
    "print(db)"
   ]
  },
  {
   "cell_type": "code",
   "execution_count": 11,
   "id": "c9cd0c5c-6112-4338-9d6c-f0c135f70f25",
   "metadata": {},
   "outputs": [
    {
     "name": "stdout",
     "output_type": "stream",
     "text": [
      "('bookdetail',)\n"
     ]
    }
   ],
   "source": [
    "dbcursor = db.cursor()\n",
    "dbcursor.execute(\"CREATE TABLE IF NOT EXISTS BOOKLIST.BOOKDETAIL \\\n",
    "(rating int(20), book varchar(40), price decimal(15,2))\")\n",
    "dbcursor.execute(\"show tables\")\n",
    "for i in dbcursor:\n",
    "    print(i)"
   ]
  },
  {
   "cell_type": "code",
   "execution_count": 19,
   "id": "7012fb6d-d111-4c3d-93d3-9a6c79be1819",
   "metadata": {},
   "outputs": [],
   "source": [
    "dbcursor.execute(\"INSERT INTO BOOKLIST.BOOKDETAIL (rating, book, price) VALUES \\\n",
    "(5, 'The Alchemist', 299.99), \\\n",
    "(4, '1984', 199.50), \\\n",
    "(5, 'To Kill a Mockingbird', 250.75), \\\n",
    "(3, 'The Great Gatsby', 180.00), \\\n",
    "(4, 'Moby Dick', 320.25), \\\n",
    "(5, 'Pride and Prejudice', 275.40), \\\n",
    "(3, 'War and Peace', 450.60), \\\n",
    "(4, 'The Catcher in the Rye', 210.80), \\\n",
    "(5, 'Harry Potter and the Sorcerer’s Stone', 500.99), \\\n",
    "(4, 'The Lord of the Rings', 650.30)\")\n",
    "\n",
    "db.commit()\n"
   ]
  },
  {
   "cell_type": "code",
   "execution_count": 29,
   "id": "99776834-9a74-4288-bb05-0e119e68c935",
   "metadata": {},
   "outputs": [
    {
     "name": "stdout",
     "output_type": "stream",
     "text": [
      "(5, 'The Alchemist', Decimal('299.99'))\n",
      "(4, '1984', Decimal('199.50'))\n",
      "(5, 'To Kill a Mockingbird', Decimal('250.75'))\n",
      "(3, 'The Great Gatsby', Decimal('180.00'))\n",
      "(4, 'Moby Dick', Decimal('320.25'))\n",
      "(5, 'Pride and Prejudice', Decimal('275.40'))\n",
      "(3, 'War and Peace', Decimal('450.60'))\n",
      "(4, 'The Catcher in the Rye', Decimal('210.80'))\n",
      "(5, 'Harry Potter and the Sorcerer’s Stone', Decimal('500.99'))\n",
      "(4, 'The Lord of the Rings', Decimal('650.30'))\n",
      "(4, 'Power of Subconscious Mind', Decimal('95.00'))\n",
      "(3, 'Attitude is Everything', Decimal('75.00'))\n"
     ]
    }
   ],
   "source": [
    "\n",
    "dbcursor.execute(\"SELECT * FROM BOOKDETAIL\")\n",
    "for x in dbcursor.fetchall():\n",
    "    print(x)"
   ]
  },
  {
   "cell_type": "code",
   "execution_count": 23,
   "id": "4ed18747-8fc0-4cd9-9f7b-410b7e4ffb53",
   "metadata": {},
   "outputs": [],
   "source": [
    "form = \"INSERT INTO BOOKLIST.BOOKDETAIL(RATING,BOOK,PRICE) values(%s,%s,%s)\"\n",
    "data = [(4,\"Power of Subconscious Mind\",95.0),(3,\"Attitude is Everything\",75.00),]\n",
    "dbcursor.executemany(form,data)\n",
    "db.commit()"
   ]
  },
  {
   "cell_type": "code",
   "execution_count": null,
   "id": "799b81e6-1a11-4ecd-b80f-57a2a3465bd0",
   "metadata": {},
   "outputs": [],
   "source": []
  }
 ],
 "metadata": {
  "kernelspec": {
   "display_name": "Python [conda env:base] *",
   "language": "python",
   "name": "conda-base-py"
  },
  "language_info": {
   "codemirror_mode": {
    "name": "ipython",
    "version": 3
   },
   "file_extension": ".py",
   "mimetype": "text/x-python",
   "name": "python",
   "nbconvert_exporter": "python",
   "pygments_lexer": "ipython3",
   "version": "3.12.7"
  }
 },
 "nbformat": 4,
 "nbformat_minor": 5
}
